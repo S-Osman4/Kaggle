{
 "cells": [
  {
   "cell_type": "code",
   "execution_count": 1,
   "id": "5d2e4318",
   "metadata": {
    "_cell_guid": "b1076dfc-b9ad-4769-8c92-a6c4dae69d19",
    "_uuid": "8f2839f25d086af736a60e9eeb907d3b93b6e0e5",
    "execution": {
     "iopub.execute_input": "2022-04-05T15:30:12.058600Z",
     "iopub.status.busy": "2022-04-05T15:30:12.057530Z",
     "iopub.status.idle": "2022-04-05T15:30:12.068858Z",
     "shell.execute_reply": "2022-04-05T15:30:12.069623Z",
     "shell.execute_reply.started": "2022-04-05T15:01:40.704104Z"
    },
    "papermill": {
     "duration": 0.035248,
     "end_time": "2022-04-05T15:30:12.070125",
     "exception": false,
     "start_time": "2022-04-05T15:30:12.034877",
     "status": "completed"
    },
    "tags": []
   },
   "outputs": [
    {
     "name": "stdout",
     "output_type": "stream",
     "text": [
      "/kaggle/input/mnist-numpy/mnist.npz\n"
     ]
    }
   ],
   "source": [
    "# This Python 3 environment comes with many helpful analytics libraries installed\n",
    "# It is defined by the kaggle/python Docker image: https://github.com/kaggle/docker-python\n",
    "# For example, here's several helpful packages to load\n",
    "\n",
    "import numpy as np # linear algebra\n",
    "import pandas as pd # data processing, CSV file I/O (e.g. pd.read_csv)\n",
    "\n",
    "# Input data files are available in the read-only \"../input/\" directory\n",
    "# For example, running this (by clicking run or pressing Shift+Enter) will list all files under the input directory\n",
    "\n",
    "import os\n",
    "for dirname, _, filenames in os.walk('/kaggle/input'):\n",
    "    for filename in filenames:\n",
    "        print(os.path.join(dirname, filename))\n",
    "\n",
    "# You can write up to 20GB to the current directory (/kaggle/working/) that gets preserved as output when you create a version using \"Save & Run All\" \n",
    "# You can also write temporary files to /kaggle/temp/, but they won't be saved outside of the current session"
   ]
  },
  {
   "cell_type": "markdown",
   "id": "e1431ddf",
   "metadata": {
    "papermill": {
     "duration": 0.010805,
     "end_time": "2022-04-05T15:30:12.094815",
     "exception": false,
     "start_time": "2022-04-05T15:30:12.084010",
     "status": "completed"
    },
    "tags": []
   },
   "source": [
    "# NEURAL NETWORKS PROJECT\n",
    "\n",
    "<font size = 6><strong>Teammates</strong></font>  : \n",
    "* <font size = 5><em>Shamso Osman</em></font>\n",
    "* <font size = 5><em>Donna Fedha</em></font>\n",
    "* <font size = 5><em>Caleb Njaramba</em></font>\n",
    "\n",
    "            \n",
    "## HANDWRITING RECOGNITION USING TENSORFLOW LIBRARIES AND MNIST DATASETS\n",
    "\n",
    "### 1. Import the libraries necessary for implementation\n",
    "\n",
    "The first step is to download and install the libraries. These are:\n",
    "\n",
    "a. Tensorflow version 2.1\n",
    "\n",
    "b. Tensorflow_datasets\n",
    "\n",
    "Next, using the import function, we import the module functions that will be\n",
    "reused in the network. These functions are:\n",
    "\n",
    "* numpy - will be used as a numerical function.\n",
    "\n",
    "* matplotlib – will be used to plot/chart graphs for visualization.\n",
    "\n",
    "* Tensorflow.\n",
    "\n",
    "* tensorflow_datasets – will serve as the source of our dataset.\n",
    "\n",
    "* _future_ – allows our codebase to be compatible to support both Python 2\n",
    "and Python 3.\n",
    "\n",
    "* %matplotlib inline - enables inline plotting, where the plots/graphs are\n",
    "displayed just below.\n",
    "\n",
    "* warnings - issues an alert to the user of certain conditions which aren't\n",
    "exactly exceptions.\n",
    "\n",
    "\n"
   ]
  },
  {
   "cell_type": "code",
   "execution_count": 2,
   "id": "42e405b8",
   "metadata": {
    "execution": {
     "iopub.execute_input": "2022-04-05T15:30:12.120987Z",
     "iopub.status.busy": "2022-04-05T15:30:12.120299Z",
     "iopub.status.idle": "2022-04-05T15:30:19.436834Z",
     "shell.execute_reply": "2022-04-05T15:30:19.436135Z",
     "shell.execute_reply.started": "2022-04-05T15:12:27.215410Z"
    },
    "papermill": {
     "duration": 7.331014,
     "end_time": "2022-04-05T15:30:19.437034",
     "exception": false,
     "start_time": "2022-04-05T15:30:12.106020",
     "status": "completed"
    },
    "tags": []
   },
   "outputs": [],
   "source": [
    "from __future__ import absolute_import, division, print_function\n",
    "import numpy as np\n",
    "import matplotlib.pyplot as plt\n",
    "import tensorflow as tf\n",
    "import tensorflow_datasets as tfs\n",
    "%matplotlib inline\n",
    "import warnings\n",
    "warnings.simplefilter(\"ignore\")"
   ]
  },
  {
   "cell_type": "markdown",
   "id": "76faac62",
   "metadata": {
    "papermill": {
     "duration": 0.012639,
     "end_time": "2022-04-05T15:30:19.465593",
     "exception": false,
     "start_time": "2022-04-05T15:30:19.452954",
     "status": "completed"
    },
    "tags": []
   },
   "source": [
    "### 2. Tensorflow dataset and visualization of the data.\n",
    "\n",
    "– The TensorFlow library contains different modules that allows us to call functions that aid in downloading the dataset instead of having to\n",
    "install through pip the Keras library and MNIST.\n",
    "\n",
    "– The dataset is divided into two categories:\n",
    "\n",
    "a. Train dataset – this dataset is used in training the neural network.\n",
    "\n",
    "b. Test dataset – this dataset is used to test if the training of the neural network was successful."
   ]
  },
  {
   "cell_type": "code",
   "execution_count": 3,
   "id": "f2c3660e",
   "metadata": {
    "execution": {
     "iopub.execute_input": "2022-04-05T15:30:19.495696Z",
     "iopub.status.busy": "2022-04-05T15:30:19.494743Z",
     "iopub.status.idle": "2022-04-05T15:30:22.608573Z",
     "shell.execute_reply": "2022-04-05T15:30:22.607872Z",
     "shell.execute_reply.started": "2022-04-05T15:15:44.527096Z"
    },
    "papermill": {
     "duration": 3.131786,
     "end_time": "2022-04-05T15:30:22.608785",
     "exception": false,
     "start_time": "2022-04-05T15:30:19.476999",
     "status": "completed"
    },
    "tags": []
   },
   "outputs": [
    {
     "name": "stdout",
     "output_type": "stream",
     "text": [
      "Downloading data from https://storage.googleapis.com/tensorflow/tf-keras-datasets/mnist.npz\n",
      "11493376/11490434 [==============================] - 0s 0us/step\n",
      "11501568/11490434 [==============================] - 0s 0us/step\n"
     ]
    },
    {
     "data": {
      "image/png": "[encoded data removed]",
      "text/plain": [
       "<Figure size 432x288 with 1 Axes>"
      ]
     },
     "metadata": {
      "needs_background": "light"
     },
     "output_type": "display_data"
    }
   ],
   "source": [
    "mnist = tf.keras.datasets.mnist #28x28 pixel images of hand-written digits\n",
    "(x_train, y_train), (x_test, y_test)= mnist.load_data()\n",
    "x_train= tf.keras.utils.normalize(x_train)\n",
    "x_test= tf.keras.utils.normalize(x_test, axis=1)\n",
    "plt.imshow(x_train[0], cmap = 'gray')\n",
    "plt.title('The sample image of the sample dataset')\n",
    "plt.show()"
   ]
  },
  {
   "cell_type": "markdown",
   "id": "15d07684",
   "metadata": {
    "papermill": {
     "duration": 0.013281,
     "end_time": "2022-04-05T15:30:22.635747",
     "exception": false,
     "start_time": "2022-04-05T15:30:22.622466",
     "status": "completed"
    },
    "tags": []
   },
   "source": [
    "If you'd like to execute a larger dataset sample, then we execute this\n",
    "code:"
   ]
  },
  {
   "cell_type": "code",
   "execution_count": 4,
   "id": "78287370",
   "metadata": {
    "execution": {
     "iopub.execute_input": "2022-04-05T15:30:22.686287Z",
     "iopub.status.busy": "2022-04-05T15:30:22.682103Z",
     "iopub.status.idle": "2022-04-05T15:30:23.089127Z",
     "shell.execute_reply": "2022-04-05T15:30:23.090173Z",
     "shell.execute_reply.started": "2022-04-05T15:18:02.049846Z"
    },
    "papermill": {
     "duration": 0.441025,
     "end_time": "2022-04-05T15:30:23.090524",
     "exception": false,
     "start_time": "2022-04-05T15:30:22.649499",
     "status": "completed"
    },
    "tags": []
   },
   "outputs": [
    {
     "data": {
      "image/png": "[encoded data removed]",
      "text/plain": [
       "<Figure size 432x288 with 1 Axes>"
      ]
     },
     "metadata": {
      "needs_background": "light"
     },
     "output_type": "display_data"
    },
    {
     "data": {
      "image/png": "[encoded data removed]",
      "text/plain": [
       "<Figure size 432x288 with 1 Axes>"
      ]
     },
     "metadata": {
      "needs_background": "light"
     },
     "output_type": "display_data"
    },
    {
     "data": {
      "image/png": "[encoded data removed]",
      "text/plain": [
       "<Figure size 432x288 with 1 Axes>"
      ]
     },
     "metadata": {
      "needs_background": "light"
     },
     "output_type": "display_data"
    },
    {
     "data": {
      "image/png": "[encoded data removed]",
      "text/plain": [
       "<Figure size 432x288 with 1 Axes>"
      ]
     },
     "metadata": {
      "needs_background": "light"
     },
     "output_type": "display_data"
    }
   ],
   "source": [
    "for i in range(0,4):\n",
    "    plt.imshow(x_train[i])\n",
    "    plt.title('The execution of a larger sample dataset:')\n",
    "    plt.axis('off')\n",
    "    plt.gray()\n",
    "    plt.show()"
   ]
  },
  {
   "cell_type": "markdown",
   "id": "e96bd54d",
   "metadata": {
    "papermill": {
     "duration": 0.020206,
     "end_time": "2022-04-05T15:30:23.143092",
     "exception": false,
     "start_time": "2022-04-05T15:30:23.122886",
     "status": "completed"
    },
    "tags": []
   },
   "source": [
    "### 3. Training the Neural Network\n",
    "While training the neural network, we used these TensorFlow library functions:\n",
    "\n",
    "a. tf. Models.Sequential - this ensures the data.\n",
    "\n",
    "b. tf.keras.Flatten - changes the input dataset from 3D to 2D dataset.\n",
    "\n",
    "c. tf.keras.layers.Dense - implements hidden layers.\n",
    "\n",
    "d. Activation function e.g: ReLu - for non-linear dataset, and Softmax - to map the datasets from the hidden layers towards one output.\n",
    "\n",
    "e. Epochs - this is the number of times the dataset is passed forward and back in the neural network.\n",
    "\n",
    "f. Optimizers are used to ensure optimal results are obtained.\n",
    "\n",
    "g. Loss is used to estimate the error from the desired results.\n",
    "\n",
    "h. Metrics = ['accuracy'] is used to estimate the accuracy of the model to\n",
    "the desired solution."
   ]
  },
  {
   "cell_type": "code",
   "execution_count": 5,
   "id": "f11ec550",
   "metadata": {
    "execution": {
     "iopub.execute_input": "2022-04-05T15:30:23.188411Z",
     "iopub.status.busy": "2022-04-05T15:30:23.187623Z",
     "iopub.status.idle": "2022-04-05T15:30:48.529249Z",
     "shell.execute_reply": "2022-04-05T15:30:48.529867Z",
     "shell.execute_reply.started": "2022-04-05T15:20:06.189409Z"
    },
    "papermill": {
     "duration": 25.37031,
     "end_time": "2022-04-05T15:30:48.530142",
     "exception": false,
     "start_time": "2022-04-05T15:30:23.159832",
     "status": "completed"
    },
    "tags": []
   },
   "outputs": [
    {
     "name": "stderr",
     "output_type": "stream",
     "text": [
      "2022-04-05 15:30:23.232220: I tensorflow/core/common_runtime/process_util.cc:146] Creating new thread pool with default inter op setting: 2. Tune using inter_op_parallelism_threads for best performance.\n",
      "2022-04-05 15:30:23.742226: I tensorflow/compiler/mlir/mlir_graph_optimization_pass.cc:185] None of the MLIR Optimization Passes are enabled (registered 2)\n"
     ]
    },
    {
     "name": "stdout",
     "output_type": "stream",
     "text": [
      "Epoch 1/4\n",
      "1875/1875 [==============================] - 7s 3ms/step - loss: 0.2484 - accuracy: 0.9263\n",
      "Epoch 2/4\n",
      "1875/1875 [==============================] - 6s 3ms/step - loss: 0.1009 - accuracy: 0.9686\n",
      "Epoch 3/4\n",
      "1875/1875 [==============================] - 6s 3ms/step - loss: 0.0708 - accuracy: 0.9782\n",
      "Epoch 4/4\n",
      "1875/1875 [==============================] - 6s 3ms/step - loss: 0.0526 - accuracy: 0.9831\n"
     ]
    },
    {
     "data": {
      "text/plain": [
       "<keras.callbacks.History at 0x7fb324d39310>"
      ]
     },
     "execution_count": 5,
     "metadata": {},
     "output_type": "execute_result"
    }
   ],
   "source": [
    "model= tf.keras.models.Sequential()\n",
    "#if the input to the layer has a rank greater than 2, then it is flattened prior\n",
    "model.add(tf.keras.layers.Flatten())\n",
    "#being a case of a non-linear dataset, we used a non-linear activation function: ReLu(rectified linear unit)\n",
    "#unlike Sigmoid and Hyperbolic function activation, ReLu was able to overcome the vanishing gradient problem\n",
    "model.add(tf.keras.layers.Dense(150, activation=tf.nn.relu))\n",
    "model.add(tf.keras.layers.Dense(150, activation=tf.nn.relu))\n",
    "\n",
    "model.add(tf.keras.layers.Dense(10, activation=tf.nn.softmax))\n",
    "\n",
    "model.compile(optimizer=\"adam\",\n",
    "              loss='sparse_categorical_crossentropy',\n",
    "              metrics=['accuracy'])\n",
    "model.fit(x_train,y_train, epochs=4)"
   ]
  },
  {
   "cell_type": "markdown",
   "id": "59f549df",
   "metadata": {
    "papermill": {
     "duration": 0.153222,
     "end_time": "2022-04-05T15:30:48.835187",
     "exception": false,
     "start_time": "2022-04-05T15:30:48.681965",
     "status": "completed"
    },
    "tags": []
   },
   "source": [
    "### 4. Running a prediction for the test dataset"
   ]
  },
  {
   "cell_type": "code",
   "execution_count": 6,
   "id": "9f2c6902",
   "metadata": {
    "execution": {
     "iopub.execute_input": "2022-04-05T15:30:49.147614Z",
     "iopub.status.busy": "2022-04-05T15:30:49.146833Z",
     "iopub.status.idle": "2022-04-05T15:30:50.774577Z",
     "shell.execute_reply": "2022-04-05T15:30:50.773939Z",
     "shell.execute_reply.started": "2022-04-05T15:21:35.793096Z"
    },
    "papermill": {
     "duration": 1.789329,
     "end_time": "2022-04-05T15:30:50.774758",
     "exception": false,
     "start_time": "2022-04-05T15:30:48.985429",
     "status": "completed"
    },
    "tags": []
   },
   "outputs": [
    {
     "name": "stdout",
     "output_type": "stream",
     "text": [
      "313/313 [==============================] - 2s 3ms/step - loss: 0.2415 - accuracy: 0.9354\n",
      "0.24153810739517212 0.9354000091552734\n"
     ]
    }
   ],
   "source": [
    "loss_value, acc_value = model.evaluate(x_test,y_test)\n",
    "print(loss_value, acc_value)"
   ]
  },
  {
   "cell_type": "code",
   "execution_count": 7,
   "id": "c26dfc79",
   "metadata": {
    "execution": {
     "iopub.execute_input": "2022-04-05T15:30:51.095065Z",
     "iopub.status.busy": "2022-04-05T15:30:51.093642Z",
     "iopub.status.idle": "2022-04-05T15:30:52.858013Z",
     "shell.execute_reply": "2022-04-05T15:30:52.858509Z",
     "shell.execute_reply.started": "2022-04-05T15:22:13.048190Z"
    },
    "papermill": {
     "duration": 1.925939,
     "end_time": "2022-04-05T15:30:52.858769",
     "exception": false,
     "start_time": "2022-04-05T15:30:50.932830",
     "status": "completed"
    },
    "tags": []
   },
   "outputs": [
    {
     "name": "stderr",
     "output_type": "stream",
     "text": [
      "2022-04-05 15:30:51.381525: W tensorflow/python/util/util.cc:348] Sets are not currently considered sequences, but this may change in the future, so consider avoiding using them.\n"
     ]
    }
   ],
   "source": [
    "model.save('handwriting_reader.model') #saves the model\n",
    "new_model = tf.keras.models.load_model('handwriting_reader.model')\n",
    "predictions = model.predict([x_test])"
   ]
  },
  {
   "cell_type": "code",
   "execution_count": 8,
   "id": "5a6b80b0",
   "metadata": {
    "execution": {
     "iopub.execute_input": "2022-04-05T15:30:53.168717Z",
     "iopub.status.busy": "2022-04-05T15:30:53.168025Z",
     "iopub.status.idle": "2022-04-05T15:30:53.367501Z",
     "shell.execute_reply": "2022-04-05T15:30:53.368090Z",
     "shell.execute_reply.started": "2022-04-05T15:23:25.282076Z"
    },
    "papermill": {
     "duration": 0.35774,
     "end_time": "2022-04-05T15:30:53.368299",
     "exception": false,
     "start_time": "2022-04-05T15:30:53.010559",
     "status": "completed"
    },
    "tags": []
   },
   "outputs": [
    {
     "data": {
      "text/plain": [
       "<function matplotlib.pyplot.show(close=None, block=None)>"
      ]
     },
     "execution_count": 8,
     "metadata": {},
     "output_type": "execute_result"
    },
    {
     "data": {
      "image/png": "[encoded data removed]",
      "text/plain": [
       "<Figure size 432x288 with 1 Axes>"
      ]
     },
     "metadata": {
      "needs_background": "light"
     },
     "output_type": "display_data"
    }
   ],
   "source": [
    "plt.imshow(x_test[100])\n",
    "plt.show\n"
   ]
  },
  {
   "cell_type": "markdown",
   "id": "3bc36091",
   "metadata": {
    "papermill": {
     "duration": 0.153705,
     "end_time": "2022-04-05T15:30:53.675569",
     "exception": false,
     "start_time": "2022-04-05T15:30:53.521864",
     "status": "completed"
    },
    "tags": []
   },
   "source": [
    "Estimation of the Loss and Accuracy of the model\n",
    "A multilayer neural network has the tendency of memorizing a dataset.\n",
    "Therefore, we used the test dataset.\n",
    "We also called the model.evaluate() function to estimate the true\n",
    "accuracy and loss of the model. The accuracy was 0.9436 and the loss\n",
    "was 0.2068."
   ]
  },
  {
   "cell_type": "code",
   "execution_count": 9,
   "id": "9c52f93c",
   "metadata": {
    "execution": {
     "iopub.execute_input": "2022-04-05T15:30:53.983796Z",
     "iopub.status.busy": "2022-04-05T15:30:53.983124Z",
     "iopub.status.idle": "2022-04-05T15:30:53.988104Z",
     "shell.execute_reply": "2022-04-05T15:30:53.988581Z",
     "shell.execute_reply.started": "2022-04-05T15:24:52.219036Z"
    },
    "papermill": {
     "duration": 0.160844,
     "end_time": "2022-04-05T15:30:53.988794",
     "exception": false,
     "start_time": "2022-04-05T15:30:53.827950",
     "status": "completed"
    },
    "tags": []
   },
   "outputs": [
    {
     "name": "stdout",
     "output_type": "stream",
     "text": [
      "6\n"
     ]
    }
   ],
   "source": [
    "print(np.argmax(predictions[100]))"
   ]
  }
 ],
 "metadata": {
  "kernelspec": {
   "display_name": "Python 3",
   "language": "python",
   "name": "python3"
  },
  "language_info": {
   "codemirror_mode": {
    "name": "ipython",
    "version": 3
   },
   "file_extension": ".py",
   "mimetype": "text/x-python",
   "name": "python",
   "nbconvert_exporter": "python",
   "pygments_lexer": "ipython3",
   "version": "3.7.12"
  },
  "papermill": {
   "default_parameters": {},
   "duration": 55.84358,
   "end_time": "2022-04-05T15:30:57.547803",
   "environment_variables": {},
   "exception": null,
   "input_path": "__notebook__.ipynb",
   "output_path": "__notebook__.ipynb",
   "parameters": {},
   "start_time": "2022-04-05T15:30:01.704223",
   "version": "2.3.3"
  }
 },
 "nbformat": 4,
 "nbformat_minor": 5
}
