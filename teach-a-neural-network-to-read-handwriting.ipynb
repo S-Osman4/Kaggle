{
 "cells": [
  {
   "cell_type": "code",
   "execution_count": 1,
   "id": "8e20b07d",
   "metadata": {
    "_cell_guid": "b1076dfc-b9ad-4769-8c92-a6c4dae69d19",
    "_uuid": "8f2839f25d086af736a60e9eeb907d3b93b6e0e5",
    "execution": {
     "iopub.execute_input": "2022-04-05T18:02:26.923687Z",
     "iopub.status.busy": "2022-04-05T18:02:26.922476Z",
     "iopub.status.idle": "2022-04-05T18:02:26.932441Z",
     "shell.execute_reply": "2022-04-05T18:02:26.932965Z",
     "shell.execute_reply.started": "2022-04-05T16:58:30.391395Z"
    },
    "papermill": {
     "duration": 0.035572,
     "end_time": "2022-04-05T18:02:26.933306",
     "exception": false,
     "start_time": "2022-04-05T18:02:26.897734",
     "status": "completed"
    },
    "tags": []
   },
   "outputs": [],
   "source": [
    "# This Python 3 environment comes with many helpful analytics libraries installed\n",
    "# It is defined by the kaggle/python Docker image: https://github.com/kaggle/docker-python\n",
    "# For example, here's several helpful packages to load\n",
    "\n",
    "import numpy as np # linear algebra\n",
    "import pandas as pd # data processing, CSV file I/O (e.g. pd.read_csv)\n",
    "\n",
    "# Input data files are available in the read-only \"../input/\" directory\n",
    "# For example, running this (by clicking run or pressing Shift+Enter) will list all files under the input directory\n",
    "\n",
    "import os\n",
    "for dirname, _, filenames in os.walk('/kaggle/input'):\n",
    "    for filename in filenames:\n",
    "        print(os.path.join(dirname, filename))\n",
    "\n",
    "# You can write up to 20GB to the current directory (/kaggle/working/) that gets preserved as output when you create a version using \"Save & Run All\" \n",
    "# You can also write temporary files to /kaggle/temp/, but they won't be saved outside of the current session"
   ]
  },
  {
   "cell_type": "markdown",
   "id": "6aa53699",
   "metadata": {
    "papermill": {
     "duration": 0.019922,
     "end_time": "2022-04-05T18:02:26.973910",
     "exception": false,
     "start_time": "2022-04-05T18:02:26.953988",
     "status": "completed"
    },
    "tags": []
   },
   "source": [
    "# <font size = 8> NEURAL NETWORKS PROJECT </font>\n",
    "\n",
    "<font size = 6><strong>Teammates</strong></font>  : \n",
    "* <font size = 5><em>Shamso Osman</em></font>\n",
    "* <font size = 5><em>Donna Fedha</em></font>\n",
    "* <font size = 5><em>Caleb Njaramba</em></font>\n",
    "\n",
    "            \n",
    "## HANDWRITING RECOGNITION USING TENSORFLOW LIBRARIES AND MNIST \n",
    "\n",
    "\n",
    "\n"
   ]
  },
  {
   "cell_type": "markdown",
   "id": "b7d312bd",
   "metadata": {
    "papermill": {
     "duration": 0.019217,
     "end_time": "2022-04-05T18:02:27.012748",
     "exception": false,
     "start_time": "2022-04-05T18:02:26.993531",
     "status": "completed"
    },
    "tags": []
   },
   "source": [
    "## SetUp\n",
    "\n",
    "### 1. Import the libraries necessary for implementation\n",
    "\n",
    "> The first step is to download and install the libraries. These are:\n",
    ">\n",
    "> a). Tensorflow version 2.1\n",
    ">\n",
    "> b). Tensorflow_datasets\n",
    "\n",
    "Next, using the import function, we import the module functions that will be\n",
    "reused in the network. These functions are:\n",
    "\n",
    "* <code>numpy</code> - will be used as a numerical function.\n",
    "\n",
    "* <code>matplotlib</code> – will be used to plot/chart graphs for visualization.\n",
    "\n",
    "* <code>Tensorflow</code>.\n",
    "\n",
    "* <code>tensorflow_datasets</code> – will serve as the source of our dataset.\n",
    "\n",
    "* <code> _future_ </code> – allows our codebase to be compatible to support both Python 2\n",
    "and Python 3.\n",
    "\n",
    "* <code>%matplotlib inline</code> - enables inline plotting, where the plots/graphs are\n",
    "displayed just below.\n",
    "\n",
    "* <code>warnings</code> - issues an alert to the user of certain conditions which aren't\n",
    "exactly exceptions.\n",
    "\n"
   ]
  },
  {
   "cell_type": "code",
   "execution_count": 2,
   "id": "559a0144",
   "metadata": {
    "execution": {
     "iopub.execute_input": "2022-04-05T18:02:27.055594Z",
     "iopub.status.busy": "2022-04-05T18:02:27.054886Z",
     "iopub.status.idle": "2022-04-05T18:02:33.648194Z",
     "shell.execute_reply": "2022-04-05T18:02:33.647304Z",
     "shell.execute_reply.started": "2022-04-05T16:58:36.883223Z"
    },
    "papermill": {
     "duration": 6.615561,
     "end_time": "2022-04-05T18:02:33.648370",
     "exception": false,
     "start_time": "2022-04-05T18:02:27.032809",
     "status": "completed"
    },
    "tags": []
   },
   "outputs": [],
   "source": [
    "#Import relevant libraries\n",
    "from __future__ import absolute_import, division, print_function\n",
    "import numpy as np\n",
    "\n",
    "#Plotting\n",
    "import matplotlib.pyplot as plt\n",
    "\n",
    "#TensorFlow\n",
    "import tensorflow as tf\n",
    "import tensorflow_datasets as tfs\n",
    "%matplotlib inline\n",
    "import warnings\n",
    "warnings.simplefilter(\"ignore\")"
   ]
  },
  {
   "cell_type": "markdown",
   "id": "7bc45741",
   "metadata": {
    "papermill": {
     "duration": 0.020363,
     "end_time": "2022-04-05T18:02:33.688902",
     "exception": false,
     "start_time": "2022-04-05T18:02:33.668539",
     "status": "completed"
    },
    "tags": []
   },
   "source": [
    "## Model\n",
    "\n",
    "### 2. Tensorflow dataset and visualization of the data.\n",
    "\n",
    "– The <code>TensorFlow library</code>  contains different modules that allows us to call functions that aid in downloading the dataset instead of having to\n",
    "install through pip the <code>Keras</code> library and <code>MNIST</code>.\n",
    "\n",
    "– The dataset is divided into two categories:\n",
    "\n",
    "a. <code>Train</code> dataset – this dataset is used in training the neural network.\n",
    "\n",
    "b. <code>Test</code> dataset – this dataset is used to test if the training of the neural network was successful."
   ]
  },
  {
   "cell_type": "code",
   "execution_count": 3,
   "id": "2e2e6764",
   "metadata": {
    "execution": {
     "iopub.execute_input": "2022-04-05T18:02:33.735584Z",
     "iopub.status.busy": "2022-04-05T18:02:33.734873Z",
     "iopub.status.idle": "2022-04-05T18:02:36.097777Z",
     "shell.execute_reply": "2022-04-05T18:02:36.098328Z",
     "shell.execute_reply.started": "2022-04-05T16:58:40.930854Z"
    },
    "papermill": {
     "duration": 2.38925,
     "end_time": "2022-04-05T18:02:36.098528",
     "exception": false,
     "start_time": "2022-04-05T18:02:33.709278",
     "status": "completed"
    },
    "tags": []
   },
   "outputs": [
    {
     "name": "stdout",
     "output_type": "stream",
     "text": [
      "Downloading data from https://storage.googleapis.com/tensorflow/tf-keras-datasets/mnist.npz\n",
      "11493376/11490434 [==============================] - 0s 0us/step\n",
      "11501568/11490434 [==============================] - 0s 0us/step\n"
     ]
    },
    {
     "data": {
      "image/png": "[encoded data removed]",
      "text/plain": [
       "<Figure size 432x288 with 1 Axes>"
      ]
     },
     "metadata": {
      "needs_background": "light"
     },
     "output_type": "display_data"
    }
   ],
   "source": [
    "mnist = tf.keras.datasets.mnist #28x28 pixel images of hand-written digits\n",
    "(x_train, y_train), (x_test, y_test)= mnist.load_data()\n",
    "x_train= tf.keras.utils.normalize(x_train)\n",
    "x_test= tf.keras.utils.normalize(x_test, axis=1)\n",
    "plt.imshow(x_train[0], cmap = 'gray')\n",
    "plt.title('The sample image of the sample dataset')\n",
    "plt.show()"
   ]
  },
  {
   "cell_type": "markdown",
   "id": "38f340f3",
   "metadata": {
    "papermill": {
     "duration": 0.02226,
     "end_time": "2022-04-05T18:02:36.143743",
     "exception": false,
     "start_time": "2022-04-05T18:02:36.121483",
     "status": "completed"
    },
    "tags": []
   },
   "source": [
    "If you'd like to execute a larger dataset sample, then we execute this\n",
    "code:"
   ]
  },
  {
   "cell_type": "code",
   "execution_count": 4,
   "id": "16a99593",
   "metadata": {
    "execution": {
     "iopub.execute_input": "2022-04-05T18:02:36.209482Z",
     "iopub.status.busy": "2022-04-05T18:02:36.195618Z",
     "iopub.status.idle": "2022-04-05T18:02:36.784215Z",
     "shell.execute_reply": "2022-04-05T18:02:36.783114Z",
     "shell.execute_reply.started": "2022-04-05T16:58:51.908131Z"
    },
    "papermill": {
     "duration": 0.617952,
     "end_time": "2022-04-05T18:02:36.784439",
     "exception": false,
     "start_time": "2022-04-05T18:02:36.166487",
     "status": "completed"
    },
    "tags": []
   },
   "outputs": [
    {
     "data": {
      "image/png": "[encoded data removed]",
      "text/plain": [
       "<Figure size 432x288 with 1 Axes>"
      ]
     },
     "metadata": {
      "needs_background": "light"
     },
     "output_type": "display_data"
    },
    {
     "data": {
      "image/png": "[encoded data removed]",
      "text/plain": [
       "<Figure size 432x288 with 1 Axes>"
      ]
     },
     "metadata": {
      "needs_background": "light"
     },
     "output_type": "display_data"
    },
    {
     "data": {
      "image/png": "[encoded data removed]",
      "text/plain": [
       "<Figure size 432x288 with 1 Axes>"
      ]
     },
     "metadata": {
      "needs_background": "light"
     },
     "output_type": "display_data"
    },
    {
     "data": {
      "image/png": "[encoded data removed]",
      "text/plain": [
       "<Figure size 432x288 with 1 Axes>"
      ]
     },
     "metadata": {
      "needs_background": "light"
     },
     "output_type": "display_data"
    },
    {
     "data": {
      "image/png": "[encoded data removed]",
      "text/plain": [
       "<Figure size 432x288 with 1 Axes>"
      ]
     },
     "metadata": {
      "needs_background": "light"
     },
     "output_type": "display_data"
    },
    {
     "data": {
      "image/png": "[encoded data removed]",
      "text/plain": [
       "<Figure size 432x288 with 1 Axes>"
      ]
     },
     "metadata": {
      "needs_background": "light"
     },
     "output_type": "display_data"
    }
   ],
   "source": [
    "for i in range(0,6): #define how many of the samples you want to be shown\n",
    "    plt.imshow(x_train[i])\n",
    "    plt.title('The execution of a larger sample dataset:')\n",
    "    plt.axis('off')\n",
    "    plt.gray()\n",
    "    plt.show()"
   ]
  },
  {
   "cell_type": "markdown",
   "id": "2d21e171",
   "metadata": {
    "papermill": {
     "duration": 0.026837,
     "end_time": "2022-04-05T18:02:36.857661",
     "exception": false,
     "start_time": "2022-04-05T18:02:36.830824",
     "status": "completed"
    },
    "tags": []
   },
   "source": [
    "### 3. Training the Neural Network\n",
    "While training the neural network, we used these <code>TensorFlow library</code> functions:\n",
    "\n",
    "a. <code>tf. Models.Sequential</code> - this ensures the data.\n",
    "\n",
    "b. <code>tf.keras.Flatten</code> - changes the input dataset from 3D to 2D dataset.\n",
    "\n",
    "c. <code>tf.keras.layers.Dense</code> - implements hidden layers.\n",
    "\n",
    "d. <code>Activation function</code> e.g: ReLu - for non-linear dataset, and Softmax - to map the datasets from the hidden layers towards one output.\n",
    "\n",
    "e. <code>Epochs</code> - this is the number of times the dataset is passed forward and back in the neural network. In simpler terms the number of epochs you train for is how many times the network will see each training\n",
    "\n",
    "f. <code>Optimizers</code> are used to ensure optimal results are obtained by adjusting the weights to minimize the loss.\n",
    "\n",
    "g. <code>Loss</code> is used to estimate the error from the desired results.\n",
    "\n",
    "h. <code>Metrics</code> = ['accuracy'] is used to estimate the accuracy of the model to\n",
    "the desired solution."
   ]
  },
  {
   "cell_type": "code",
   "execution_count": 5,
   "id": "c401fa62",
   "metadata": {
    "execution": {
     "iopub.execute_input": "2022-04-05T18:02:36.919885Z",
     "iopub.status.busy": "2022-04-05T18:02:36.919225Z",
     "iopub.status.idle": "2022-04-05T18:03:18.894776Z",
     "shell.execute_reply": "2022-04-05T18:03:18.895333Z",
     "shell.execute_reply.started": "2022-04-05T17:33:47.460410Z"
    },
    "papermill": {
     "duration": 42.010351,
     "end_time": "2022-04-05T18:03:18.895545",
     "exception": false,
     "start_time": "2022-04-05T18:02:36.885194",
     "status": "completed"
    },
    "tags": []
   },
   "outputs": [
    {
     "name": "stderr",
     "output_type": "stream",
     "text": [
      "2022-04-05 18:02:36.959648: I tensorflow/core/common_runtime/process_util.cc:146] Creating new thread pool with default inter op setting: 2. Tune using inter_op_parallelism_threads for best performance.\n",
      "2022-04-05 18:02:37.319918: I tensorflow/compiler/mlir/mlir_graph_optimization_pass.cc:185] None of the MLIR Optimization Passes are enabled (registered 2)\n"
     ]
    },
    {
     "name": "stdout",
     "output_type": "stream",
     "text": [
      "Epoch 1/4\n",
      "1875/1875 [==============================] - 6s 3ms/step - loss: 0.2460 - accuracy: 0.9258\n",
      "Epoch 2/4\n",
      "1875/1875 [==============================] - 5s 3ms/step - loss: 0.0995 - accuracy: 0.9691\n",
      "Epoch 3/4\n",
      "1875/1875 [==============================] - 5s 3ms/step - loss: 0.0685 - accuracy: 0.9782\n",
      "Epoch 4/4\n",
      "1875/1875 [==============================] - 5s 3ms/step - loss: 0.0503 - accuracy: 0.9838\n"
     ]
    }
   ],
   "source": [
    "model= tf.keras.models.Sequential()\n",
    "#if the input to the layer has a rank greater than 2, then it is flattened prior\n",
    "model.add(tf.keras.layers.Flatten())\n",
    "#being a case of a non-linear dataset, we used a non-linear activation function: ReLu(rectified linear unit)\n",
    "#unlike Sigmoid and Hyperbolic function activation, ReLu was able to overcome the vanishing gradient problem\n",
    "model.add(tf.keras.layers.Dense(150, activation=tf.nn.relu))\n",
    "model.add(tf.keras.layers.Dense(150, activation=tf.nn.relu))\n",
    "\n",
    "model.add(tf.keras.layers.Dense(10, activation=tf.nn.softmax))\n",
    "\n",
    "model.compile(optimizer=\"adam\",\n",
    "              loss='sparse_categorical_crossentropy',\n",
    "              metrics=['accuracy'])\n",
    "history = model.fit(x_train,y_train, epochs=4)\n"
   ]
  },
  {
   "cell_type": "markdown",
   "id": "906f4bf0",
   "metadata": {
    "papermill": {
     "duration": 0.182464,
     "end_time": "2022-04-05T18:03:19.261208",
     "exception": false,
     "start_time": "2022-04-05T18:03:19.078744",
     "status": "completed"
    },
    "tags": []
   },
   "source": [
    "looking at the loss curves and evaluating the training"
   ]
  },
  {
   "cell_type": "code",
   "execution_count": 6,
   "id": "46a875d4",
   "metadata": {
    "execution": {
     "iopub.execute_input": "2022-04-05T18:03:19.632149Z",
     "iopub.status.busy": "2022-04-05T18:03:19.631513Z",
     "iopub.status.idle": "2022-04-05T18:03:20.119023Z",
     "shell.execute_reply": "2022-04-05T18:03:20.118366Z",
     "shell.execute_reply.started": "2022-04-05T17:36:12.791601Z"
    },
    "papermill": {
     "duration": 0.673937,
     "end_time": "2022-04-05T18:03:20.119195",
     "exception": false,
     "start_time": "2022-04-05T18:03:19.445258",
     "status": "completed"
    },
    "tags": []
   },
   "outputs": [
    {
     "data": {
      "image/png": "[encoded data removed]",
      "text/plain": [
       "<Figure size 432x288 with 1 Axes>"
      ]
     },
     "metadata": {
      "needs_background": "light"
     },
     "output_type": "display_data"
    }
   ],
   "source": [
    "import pandas as pd\n",
    "\n",
    "history_df = pd.DataFrame(history.history)\n",
    "# Start the plot at epoch 0. You can change this to get a different view.\n",
    "history_df.loc[0:, ['loss']].plot();"
   ]
  },
  {
   "cell_type": "markdown",
   "id": "ad7204f7",
   "metadata": {
    "papermill": {
     "duration": 0.181,
     "end_time": "2022-04-05T18:03:20.481440",
     "exception": false,
     "start_time": "2022-04-05T18:03:20.300440",
     "status": "completed"
    },
    "tags": []
   },
   "source": [
    "### 4. Running a prediction for the test dataset"
   ]
  },
  {
   "cell_type": "code",
   "execution_count": 7,
   "id": "634ecdfb",
   "metadata": {
    "execution": {
     "iopub.execute_input": "2022-04-05T18:03:20.853385Z",
     "iopub.status.busy": "2022-04-05T18:03:20.851645Z",
     "iopub.status.idle": "2022-04-05T18:03:21.722396Z",
     "shell.execute_reply": "2022-04-05T18:03:21.722869Z",
     "shell.execute_reply.started": "2022-04-05T17:44:43.859681Z"
    },
    "papermill": {
     "duration": 1.058847,
     "end_time": "2022-04-05T18:03:21.723047",
     "exception": false,
     "start_time": "2022-04-05T18:03:20.664200",
     "status": "completed"
    },
    "tags": []
   },
   "outputs": [
    {
     "name": "stdout",
     "output_type": "stream",
     "text": [
      "313/313 [==============================] - 1s 2ms/step - loss: 0.2388 - accuracy: 0.9361\n",
      "0.23883947730064392 0.9361000061035156\n"
     ]
    }
   ],
   "source": [
    "loss_value, acc_value = model.evaluate(x_test,y_test)\n",
    "print(loss_value, acc_value)"
   ]
  },
  {
   "cell_type": "code",
   "execution_count": 8,
   "id": "6890b670",
   "metadata": {
    "execution": {
     "iopub.execute_input": "2022-04-05T18:03:22.112282Z",
     "iopub.status.busy": "2022-04-05T18:03:22.111584Z",
     "iopub.status.idle": "2022-04-05T18:03:23.861915Z",
     "shell.execute_reply": "2022-04-05T18:03:23.861333Z",
     "shell.execute_reply.started": "2022-04-05T17:44:52.891128Z"
    },
    "papermill": {
     "duration": 1.948372,
     "end_time": "2022-04-05T18:03:23.862106",
     "exception": false,
     "start_time": "2022-04-05T18:03:21.913734",
     "status": "completed"
    },
    "tags": []
   },
   "outputs": [
    {
     "name": "stderr",
     "output_type": "stream",
     "text": [
      "2022-04-05 18:03:22.399793: W tensorflow/python/util/util.cc:348] Sets are not currently considered sequences, but this may change in the future, so consider avoiding using them.\n"
     ]
    }
   ],
   "source": [
    "model.save('handwriting_reader.model') #saves the model\n",
    "new_model = tf.keras.models.load_model('handwriting_reader.model')\n",
    "predictions = model.predict([x_test])"
   ]
  },
  {
   "cell_type": "code",
   "execution_count": 9,
   "id": "c54f25c8",
   "metadata": {
    "execution": {
     "iopub.execute_input": "2022-04-05T18:03:24.251327Z",
     "iopub.status.busy": "2022-04-05T18:03:24.250632Z",
     "iopub.status.idle": "2022-04-05T18:03:24.450905Z",
     "shell.execute_reply": "2022-04-05T18:03:24.451376Z",
     "shell.execute_reply.started": "2022-04-05T17:45:00.400588Z"
    },
    "papermill": {
     "duration": 0.397421,
     "end_time": "2022-04-05T18:03:24.451546",
     "exception": false,
     "start_time": "2022-04-05T18:03:24.054125",
     "status": "completed"
    },
    "tags": []
   },
   "outputs": [
    {
     "data": {
      "text/plain": [
       "<function matplotlib.pyplot.show(close=None, block=None)>"
      ]
     },
     "execution_count": 9,
     "metadata": {},
     "output_type": "execute_result"
    },
    {
     "data": {
      "image/png": "[encoded data removed]",
      "text/plain": [
       "<Figure size 432x288 with 1 Axes>"
      ]
     },
     "metadata": {
      "needs_background": "light"
     },
     "output_type": "display_data"
    }
   ],
   "source": [
    "plt.imshow(x_test[150])\n",
    "plt.show\n"
   ]
  },
  {
   "cell_type": "markdown",
   "id": "c7e0365a",
   "metadata": {
    "papermill": {
     "duration": 0.190178,
     "end_time": "2022-04-05T18:03:24.835716",
     "exception": false,
     "start_time": "2022-04-05T18:03:24.645538",
     "status": "completed"
    },
    "tags": []
   },
   "source": [
    "## Estimation of the Loss and Accuracy of the model\n",
    "\n",
    "A multilayer neural network has the tendency of memorizing a dataset.\n",
    "\n",
    "Therefore, we used the test dataset.\n",
    "\n",
    "We also called the model.evaluate() function to estimate the true accuracy and loss of the model. The accuracy was 0.9368 and the loss was 0.2307."
   ]
  },
  {
   "cell_type": "code",
   "execution_count": 10,
   "id": "ef22dc67",
   "metadata": {
    "execution": {
     "iopub.execute_input": "2022-04-05T18:03:25.222998Z",
     "iopub.status.busy": "2022-04-05T18:03:25.222370Z",
     "iopub.status.idle": "2022-04-05T18:03:25.799730Z",
     "shell.execute_reply": "2022-04-05T18:03:25.799214Z",
     "shell.execute_reply.started": "2022-04-05T17:45:06.547058Z"
    },
    "papermill": {
     "duration": 0.771998,
     "end_time": "2022-04-05T18:03:25.799889",
     "exception": false,
     "start_time": "2022-04-05T18:03:25.027891",
     "status": "completed"
    },
    "tags": []
   },
   "outputs": [
    {
     "name": "stdout",
     "output_type": "stream",
     "text": [
      "313/313 [==============================] - 1s 2ms/step - loss: 0.2388 - accuracy: 0.9361\n",
      "0.23883947730064392 0.9361000061035156\n"
     ]
    }
   ],
   "source": [
    "loss_value, acc_value = model.evaluate(x_test,y_test)\n",
    "print(loss_value, acc_value)"
   ]
  },
  {
   "cell_type": "code",
   "execution_count": 11,
   "id": "5565404f",
   "metadata": {
    "execution": {
     "iopub.execute_input": "2022-04-05T18:03:26.194151Z",
     "iopub.status.busy": "2022-04-05T18:03:26.193490Z",
     "iopub.status.idle": "2022-04-05T18:03:26.196926Z",
     "shell.execute_reply": "2022-04-05T18:03:26.196340Z",
     "shell.execute_reply.started": "2022-04-05T17:05:31.232286Z"
    },
    "papermill": {
     "duration": 0.203477,
     "end_time": "2022-04-05T18:03:26.197089",
     "exception": false,
     "start_time": "2022-04-05T18:03:25.993612",
     "status": "completed"
    },
    "tags": []
   },
   "outputs": [
    {
     "name": "stdout",
     "output_type": "stream",
     "text": [
      "9\n"
     ]
    }
   ],
   "source": [
    "print(np.argmax(predictions[150]))"
   ]
  },
  {
   "cell_type": "markdown",
   "id": "980a078e",
   "metadata": {
    "papermill": {
     "duration": 0.191632,
     "end_time": "2022-04-05T18:03:26.580933",
     "exception": false,
     "start_time": "2022-04-05T18:03:26.389301",
     "status": "completed"
    },
    "tags": []
   },
   "source": [
    "### Generating animation "
   ]
  },
  {
   "cell_type": "code",
   "execution_count": 12,
   "id": "f0505ad0",
   "metadata": {
    "execution": {
     "iopub.execute_input": "2022-04-05T18:03:26.978327Z",
     "iopub.status.busy": "2022-04-05T18:03:26.974249Z",
     "iopub.status.idle": "2022-04-05T18:03:27.020800Z",
     "shell.execute_reply": "2022-04-05T18:03:27.020161Z",
     "shell.execute_reply.started": "2022-04-05T17:48:56.115921Z"
    },
    "papermill": {
     "duration": 0.247621,
     "end_time": "2022-04-05T18:03:27.020949",
     "exception": false,
     "start_time": "2022-04-05T18:03:26.773328",
     "status": "completed"
    },
    "tags": []
   },
   "outputs": [],
   "source": [
    "# Setup plotting\n",
    "import matplotlib.pyplot as plt\n",
    "from learntools.deep_learning_intro.dltools import animate_sgd\n",
    "plt.style.use('seaborn-whitegrid')\n",
    "# Set Matplotlib defaults\n",
    "plt.rc('figure', autolayout=True)\n",
    "plt.rc('axes', labelweight='bold', labelsize='large',\n",
    "       titleweight='bold', titlesize=18, titlepad=10)\n",
    "plt.rc('animation', html='html5')\n",
    "\n",
    "# Setup feedback system\n",
    "from learntools.core import binder\n",
    "binder.bind(globals())\n",
    "from learntools.deep_learning_intro.ex3 import *"
   ]
  },
  {
   "cell_type": "code",
   "execution_count": 13,
   "id": "1ea3a48c",
   "metadata": {
    "execution": {
     "iopub.execute_input": "2022-04-05T18:03:27.413068Z",
     "iopub.status.busy": "2022-04-05T18:03:27.412026Z",
     "iopub.status.idle": "2022-04-05T18:03:30.614307Z",
     "shell.execute_reply": "2022-04-05T18:03:30.613713Z",
     "shell.execute_reply.started": "2022-04-05T18:01:06.524944Z"
    },
    "papermill": {
     "duration": 3.399176,
     "end_time": "2022-04-05T18:03:30.614453",
     "exception": false,
     "start_time": "2022-04-05T18:03:27.215277",
     "status": "completed"
    },
    "tags": []
   },
   "outputs": [
    {
     "data": {
      "text/html": [
       "<video width=\"800\" height=\"300\" controls autoplay loop>\n",
       "  <source type=\"video/mp4\" src=\"data:video/mp4;base64,AAAAHGZ0eXBNNFYgAAACAGlzb21pc28yYXZjMQAAAAhmcmVlAABY1m1kYXQAAAKuBgX//6rcRem9\n",
       "5tlIt5Ys2CDZI+7veDI2NCAtIGNvcmUgMTU1IHIyOTE3IDBhODRkOTggLSBILjI2NC9NUEVHLTQg\n",
       "QVZDIGNvZGVjIC0gQ29weWxlZnQgMjAwMy0yMDE4IC0gaHR0cDovL3d3dy52aWRlb2xhbi5vcmcv\n",
       "eDI2NC5odG1sIC0gb3B0aW9uczogY2FiYWM9MSByZWY9MyBkZWJsb2NrPTE6MDowIGFuYWx5c2U9\n",
       "MHgzOjB4MTEzIG1lPWhleCBzdWJtZT03IHBzeT0xIHBzeV9yZD0xLjAwOjAuMDAgbWl4ZWRfcmVm\n",
       "PTEgbWVfcmFuZ2U9MTYgY2hyb21hX21lPTEgdHJlbGxpcz0xIDh4OGRjdD0xIGNxbT0wIGRlYWR6\n",
       "b25lPTIxLDExIGZhc3RfcHNraXA9MSBjaHJvbWFfcXBfb2Zmc2V0PS0yIHRocmVhZHM9NiBsb29r\n",
       "YWhlYWRfdGhyZWFkcz0xIHNsaWNlZF90aHJlYWRzPTAgbnI9MCBkZWNpbWF0ZT0xIGludGVybGFj\n",
       "ZWQ9MCBibHVyYXlfY29tcGF0PTAgY29uc3RyYWluZWRfaW50cmE9MCBiZnJhbWVzPTMgYl9weXJh\n",
       "bWlkPTIgYl9hZGFwdD0xIGJfYmlhcz0wIGRpcmVjdD0xIHdlaWdodGI9MSBvcGVuX2dvcD0wIHdl\n",
       "aWdodHA9MiBrZXlpbnQ9MjUwIGtleWludF9taW49MTAgc2NlbmVjdXQ9NDAgaW50cmFfcmVmcmVz\n",
       "aD0wIHJjX2xvb2thaGVhZD00MCByYz1jcmYgbWJ0cmVlPTEgY3JmPTIzLjAgcWNvbXA9MC42MCBx\n",
       "cG1pbj0wIHFwbWF4PTY5IHFwc3RlcD00IGlwX3JhdGlvPTEuNDAgYXE9MToxLjAwAIAAADtWZYiE\n",
       "AD///vdonwKbWkN6gOSVxSXbTXD8JX+LmATk/2Jw+ua51sD6VHLbZON5/IOV46ao/nU41aT4vDEL\n",
       "ggZf3S55ig78BArC+5/bEmW+di7CbVM4KKSDSlkJrkiIv2a8UeDVr8As5+66SxjbOBoRAwWDIxOv\n",
       "zUuGphpGkreBV5fBg7LG1E8iXAr//rX3oCemGKfAu+LCfwNe99vY0AAAlEAn56YntQX9TqmYGDPC\n",
       "Y36AQmhpstyEEn25xux/UseyfWa1dd+bkHk48eBR33BOZ3vPESU76bHZKS6dhQlCtTbBQX/cMwqT\n",
       "kHoLG3QiLLp8vB/yHtJcL9pZRLkZPXcLkFWUXIvDnPnNDBqBk+w2x9/quHW5J4o/Zfc+tfbUMh4S\n",
       "9VLPABLbBNmqODjhYx87DI0OPSS9VmRC3LQV0OYPRDiTPFdnTKaR77bE/ensWQoDG5Z1xhuya1Cm\n",
       "Qpi0LBygf62qqW6A05pXJRuKiy6wnwaoF2Q3K/zC1ArOHXBrLqW/+Hn04ZJJexdgnXq/d7ngmI+O\n",
       "MhKUx2OpQYuh/3DVghriKOd788gm8YyAB5q1R6kDku0brFXRyqvU2qDnX2UqqIx+54icMf7icmta\n",
       "b946hu5YcXVxenoX4VY1XMO16h/dIlQhBB/ayEKZ6+jOsfcGBz1tHp+5/TSRuJotqYUAH/0XHOqt\n",
       "vKJyAQpR0a/I5u8b4eNtsWsYCIBCyKGgzPoZ1cYeU52WApJIZHIZwhYUDgx9nAxYNO6Ag4pvsnom\n",
       "+GHWB+eZKfm8TiWiqrR5PjjhEhFsJqNeOq+AjLnrEDkog9JqbrG5TljF7n9gyWm8NbxoTH+T0+Ox\n",
       "3RfDNvrlpvgP3Pz/b0umh07k5ijcJ7vcBkGckgf1HcG0MrnDz3F6e+PMn6lzFgdAo8ImF5bTw27F\n",
       "VxtAVy9SrSBrXkUqIb4R+QVvBsJ/gn+wad2/z9bE4EXWqd2mcFalbSJ9/X0PA1+RWJAnp2OT82hH\n",
       "BNTTDrTwfn2Y+OcpXAPDRj6MKIdwAR9q9klIPws158x2koSpKEyb1Roq6fxhiC99Ncm84zjLPry+\n",
       "c6YLxc9jH9JgaN7xE63D5Xe8VNaPkzPxD1Rbz1+OwjCNl5uQ5mITIIVVa+vf8oWuCYz9BgSayEaV\n",
       "l6bAK5M5RpMgIyHAxA0Au2+IQrjdBSJ3y0gmbqJVbdaibLhMwspUOvAnobU5nGS57yjmUh6GMLkI\n",
       "cuHRuShuY6ywznQelUG1W78jcqVqD/TngpZF13KQSsbYLAu9uk1b+0EypbC1yxlxbnlygt4atR4J\n",
       "wJOXceWMvUbWlSmYCT2pj1UfoJXVbkjjWtLzoJ+18JKgCdoHWOD6QiHM/ylHsJ+XEon2osOpMSSm\n",
       "IH8d+GulEcxM+sm6uRpla2nT7MX2irVJ+dONNfK0ddy/HoBIGtMYfodoVwLmJWh/wr4ewTAUix8S\n",
       "ZitwSlNc1s5U+O/Mf8Cv14WCOFADWLYdcVU1mZJcgRPcPu24OOwvLdsW48147S2yLDrG5YIKSxOY\n",
       "0zwOnraUxJHp/XpY7fOvMPT5mb/WxvGa/dUk/EEWLEVhX6A7EAHs/hRbyo4ggvrbfF65BFDfK2mC\n",
       "HKFsKqlNlMz8dwf0NbsUiKGuFIBNGpHXiswMzTY4LC7j8Cyslwtx1UmBEOBKEeuoEc37qHYneJlJ\n",
       "wpgu/bbmsZCKdiXQhQsjvbp14mYl7E/krs/oShFozg2IwvYcRDfHStRMfBOB8IR9ZCeXxFSHnXsM\n",
       "3D0y1MZDdRz5GWjR0C3DI8GgnTW5fM+tuYVndc40Vso0w+6sMhzh5mLA5IKfM3/vY01ZribV+V4g\n",
       "ARk6BqkWWMfh00VvnOi2YN1zr4oT14Bp52nfRvy8bZ2zTXcGZRt/MACWvspEuKgqXcFwn05+PceN\n",
       "Cklzgenv3L4QXUH0DdUltpDfYjlDiaUWe8vPP/GcgS5yrdK83FEbIlzFu/rBHguNuarXLDOD6num\n",
       "6LWsuZh2N0An5rxin69zMDALJFmYDdf4z0ZmTUy9OsNMHB8fzcZ/tGjfELe5Ypgd68We4iR9ONZE\n",
       "z7dj/DtH2k0B12dBHqTW9ZUc3Yhe01gqu3Tlj+hlB2N1M4WvqVYmLXQjoq1E7QhdN+xR8OE6lMgA\n",
       "NGCxxJt3QdY286lV3v/oMfMZdSHwan1Zxvk2osZqhqY5ORCE9RAubduV1+d7h8uJ7BPwlE9ZKobQ\n",
       "FZaH/261MpxfQ7MoS2JWHM0fNXkIjnKBeais4g+LQgtIhT6Ei5YHUiUZggQalJ5DBw1yCP99H5nb\n",
       "sheHPWRdiZ664vXPH4QSc1/3tnshBhXHkuLj0IvrvIbqfX176vXdJxURRfXtZsDg4ot+wfYQWrZU\n",
       "mH1kCbO+jZhBJ641+o+2x+FhW64PwHH4vVhvClHG9UXWyAG23Tv30uxbP6mU2AI4iyR7vuQfjfxK\n",
       "h5wRvmWEzq5ijwfmVVStcxG6Cm9MgFMtz+hHPHqw4OOqzHj/6iBZKYOZHlfXtSQOGyr1dLBsMYLc\n",
       "BYu8UU2d2sF0SPdN6kbmYlJTvZJYLAAyCP4OGMKYH1UYcbELycUMGPkg5BiL6TBj2a/B12rj0LTV\n",
       "mwsCrilJFVgLw8vKEgU/tZtPVYw18VgHVr/6BTNKS8/0X1gNa025L9QkEcQVwDuFY4qMBh0MjocK\n",
       "oQAtZJCq8SU3G0ueN0hYm6wAcJE7f2p/8zc2v/vIvHNmk4fUFYIFnSshKd4L9gDO8B5o4xiH5Pj2\n",
       "5JmOdG/MvbAHaSh4gLLP86j/5g3xwPavQvUz//5lFCao/uu/9z41JQxX8H049nAGHyC7kXvJ4Hdz\n",
       "b62Fv0Tkf3GYoxSgxYhdijdykIfXYv6DP5fMciMQlxGT/Fajv65VMQtpIPFAzjywh3lMTLVaI9Yi\n",
       "GUSoBhUNSEz6YG0NVDGp9v7W5V2w70bNpG49Q2UQ7Whon7gHdFffefiZY+z0PM0aHaXZBdLjIvHw\n",
       "AHZ4MWcT/Y7eNb+j54eGCt0eylRiBHrWH4vKz3793fGvF1KRj/bTPN/Zg5tPwgefgnxm/5dN6aqc\n",
       "IvQvRi48YDglTXrPLBsb9yZLqufFNwCEp4m3kPROFe7QaO4KSjsUUZF29m1pjVfMAP8IMc4xkjcw\n",
       "OwyxWKg3iSZLh1NNNQTDaueEjZDaYX5CvLX26YowXGl8Aar/r06+rCdqAQvh5RYMkDmDpHUgFBiD\n",
       "nWplE2YXcBxenPSgzYp3gmm474+fguJc9iuwwMXmeL+cpaE8NIPVqh9iWCyM5/Bx4gGIkhccizy2\n",
       "sZwcJtlJVlDTJX0zi1+bPjFcYJ5ly2LRvgc/qJi+shogjbnOqRGQQ61+HQf4ZkxnXvjyGl/ynGQd\n",
       "bW1Ajxup9dXuHVFI1AoGTo0xC98gvDwJYYD7UotLHMF/Z+3hyw8qnesqTW8Xbn6+oqp4YwdUc2s2\n",
       "aUUeYo8W53I7/fPik4hxgnysnZk1Knnt4sgCPc0CNrSFTVYiaVBOs+RQAdKvCWFHYnbZcMTqOvtA\n",
       "SjYYIYWMhAsm3mczoltsLzg4lFh6qG5GYOoNaeCw0VXDZpJhEB3T4QRzPbhNTN6zlWPjQf9xepJN\n",
       "NzBJ9+HFXCG/pk5ZvDkJ01QTIdF84uFiPvmrTh1WuoVNZRRja03lnqCzPddHnf/pfNFzCKQPRptc\n",
       "bCC7l04q2pjb3I9+4/BJlhkQVvSoc1MZDP/ZzsVFi7S/nq6i4nSK5x/toSIAQdqwcTeIisw3A+yA\n",
       "OlQPGAm8z4NFCBoq1i17QGCbq3+wTDtfWlwj7lm/ybbmyjc9heZfvWuCSfuF1Ny6n30lmHoGufR4\n",
       "P8tXjidXeGxYna/nWgYILzn3KUogzbVSpeeJUN34KWhlXaO4XNgeYXp2INxOxbLx+EgR8V0cyEtk\n",
       "RCBiQ80b9vaQdkAz0MIk7v3jFSaGKBQBkOc8phJLV7Vs7khjcFrKGOnTBbNIyeXEmXln1yUm6zwK\n",
       "c9JqbI+Vw4Qw+RAHGfy2TGujxDVd+9CcgCYkEMfIH//ggiTJKZ9Pd/jyJ71e/yhYuGBip2Fotu++\n",
       "vrSe3i3C/3aHQp5aKxqrKeVYn+JEBDw9gDYh3hnS7aMSRH1MdSG2nstoBF/wqY9bM6DDXKjGMCSo\n",
       "hTQrtzQzaJHGtbd451ktbdmm8TSAWTdk6LcGPB3f3CBHGPfVAT45dYs7CO+GIH0kWP5JHZB1WEji\n",
       "fNjGj7m36b1jfKWp8A1DoumoMUkJatkFcZOFV0PATkrZZlnaWL406t9f4Tvp/xnwIMKVtnDil3Yp\n",
       "TC/8NDFujExjAuWWTE2P95JTO3dB4HVR3Zy8B+WKzec67hAAwU1taZK5f0nYuuVYAYJGeSaBm/hN\n",
       "Bg9CAl+v9yMyv2LGG/aG9i+7lUMjeJhoeFr84dWCeSqqpCbjULmHhqSigjjIo0M9iysP/CdLwsK0\n",
       "jsJrfoEK6vT7uKodZ4FCjoMy32YzFtR7XYADewoH7OmKIxbXM73HQcpU04BtwRg+88fumRY/lphj\n",
       "egudI285tXYObOvP3kq9i4JI2T0JY69PCCfgWQAcehV6J2uuXxdrKzUNz1uU9FH46LGKk+ysZDGj\n",
       "9gCusI6QDvsrBOnv7fOiaMyg8qXimPQ8mma+bQV1cjuwcriVvyt3z0M7xMK5ImRv0IS5mqxVhFDm\n",
       "OvWXxWSKCKNDfpfN1zRzpzE8GZ1IqVZfIxUGZUW7sFQeU9bmq2x5CahtBDs5oYKPyKPUYA82Hv+/\n",
       "Pj1kWpCtSvjm0//9Jmafkw3JVylkGJFnNF1FNEds3uVKxHkuWPwTgZ+cwgM7FOU+4BzYJHOS+dHs\n",
       "l///10JArO6+q+rZkFJQfIQkN9nQ9YjRg5Y9DWRU8Kb2iScg15tXfjbgu9wNvzQxiql1B8t9ZIYq\n",
       "T3QKCGSAf759jHDO04r5hOmcGNnxYv4IdENPZDqtLW7klN+gdSwnzYJ/3oile6L0JgzJkX8XK8E7\n",
       "9nrl4BmFkfKJifwmpTecz7ZEX7BZ5d9HZ3mx5fwCdWYPzTMg+MAn0YpeYvg+D/t6tJUMUwP2M3Xf\n",
       "ORDAlk0ayb12YZEjWpY95WE3acB3MbI48fX0b7y6aH6MwbQShfQ0fHZmbOb5MhIn1Si5/CYzia8e\n",
       "8D+qqj6r/QXhCZAJUsGyWYUOOJgr33y5KKRoqR/Arhmu1goTR3VnUeICOuXMnDJxnzP34jTd5ftd\n",
       "6/wf/0eyPjnSUAvah0rkOywMcwwbozlwcTLmqoRC9YNNgciOh9cqgLz9v+Ki8NotRTWi/6juLHkf\n",
       "eXIKE+I+5MqSMGKl92U+M8+DZXyxqibt5I/1ogwJvYKdUFDlWZoN7exhbdrTJzRyXvTlApZqkQCt\n",
       "KIv35ucn6xuMuF5sCadju7GCoVrJdPtQTKmVqo8Las9jAHuzTXpXCILvVVdGXuWrkQjpzLviOOqN\n",
       "bU7MZEYhH9oElO3P4TF9t0nZ8ZZg9QYDiLZ7l4NeNkk42PTz6EQFIXzF1r/bFiVj+k3+ccirbi6Z\n",
       "QHyq25l1fSZ1DIvQHcnf/lsKgbniriDpxOBfylMHLNR1EHz7gxWB+BcPFakyZpv5hsEyD+QGquv8\n",
       "niX4YCDgZzAB/VoME8o/wQjrl5iOTQQyKjmTQ6Wu+wf8QDH6nSEFTofblMKb3gtL6FTMm10+R609\n",
       "OYDF7eFK4kSv1myQvlVD5c7tBEsNUkoh9zi/C1nFCM2bamZYVG2annPAeuS7Z1H1yLO6WzQXMuF9\n",
       "XjXJOTGbOj9VcPF5y81sy33dofklGbA34cXl5aEhndlLVDDh6fYc1ijtyAGF3/8DmKCbvdu6GVGw\n",
       "WoThtxlqYZn1jGDDZqd5LqZ/8mriA0TWrXRXLi4SeU+5hjqy1gywVftEIdMfMDzMSUHp3sQKXWJv\n",
       "zqlC6hEzxa9+Edj7fJpEsPwHvYfmjjbTTRT9CrzSfA0uTTZqOmG9Hmfzh728U6eqUhZgIvsR/Gzr\n",
       "7uSyKJs9eM1CzOnT4wQ2lvYVcdoS3AV1CLgLDF0FzqGMEeX+aNpncQwOp/cOKdysfBDhTbXPQPEM\n",
       "+xaFBO8J6+32au47FSDOwfYGkVYa5rzSmo7SwVVM8CVRWQKhoTXXH4gj3rETxJx9aIvRxLE8TJO+\n",
       "+uyEGf/Zbv+KmdyxzM5RsSzp5NRFPN9Oxn68TRqXyT/+b7JcFJQw9nFPoL8YQYZp85WQEQSGknrF\n",
       "WTGPzQM7SWsGrGZAeNpTB41NFtUjkbdlIg40O7OJR/6hTajnXSV1thgsx2utP6qt73lYvmLvCDSy\n",
       "9W4Yafwd4/CNnCN3L26S4KMfsmbcTy9DoFf2q9rWUsth9Y+/u7DcItbKAOLSSosmEeSd6POsL0Ik\n",
       "T5MdZ8j875Tk7cmqktXsOdxPnFvySTsK1iaDueWZwsPzvsOAA32qAInwz/5Qew8Vf72G5G6pdpEX\n",
       "7Z/d/89MF3NQ/SI22bi7GSniTVqagReGAXqZxeAienxceFEeLelAxv2VxoGlMAAcoGyQE0zaNbDu\n",
       "rHca8rYF/oI1FyBNX/yGBRKxcODr/LpW41NyyYfkO5mieKxO3gwuzJr3xPEB506MON8JL7vXfgiW\n",
       "yYG/GogtlxuZ9cpaQNOi8/Jy+uAfmQOC3yPKfdCEmvSw15y9exjDlPwtuRG6dogjE1u8Wu0JMDN8\n",
       "kt/YhsE02A1C4EyxIQe4gL4VOZ1fPF4aX8dYTHTSyuqFPj/820bozUxhQHyse1eZhKj71MfdLK9b\n",
       "LJiwnnKywo5dJa+KMLYbX61XJUtYT6byo7xwowl8jxSp9WUzM8WgYORzk4y6+A8D///72l31Pz+N\n",
       "CrC78HgV8g5hnKEns1ObRDL4g9iUXXxPX0wZY1n+hfVnO6JO7LSHvtlnvIuy5zyxOwnfhwlX7oac\n",
       "cCSD8zaIpnvPTPEbHjumGTFfCYCGHXg+C0gKq2XNoGRJqc478F5QR2vcpaqZYm7ablDd6i4GTahd\n",
       "/SABfN/C+9slcOeyeyYfsAm/4z52sp7Z0EnP33FbP8I5uBfODgxj2caq3kVViliVeybHuooxuvmN\n",
       "83vHsyzo8BrwF5HyhVajgPVr09CzBC0pESRpCvIpr7Xlil2q6/gNQH55dXj8A/9UOcGpkqz115yc\n",
       "IgF3ZHwcuUFo28MouH46R5ZsA76BTLItYnMj8E13pW8c820So3xGG+MhaHKjWxEBJh+CXLQ9L19j\n",
       "OQdPDF5ByIK7nHb9MysL0oIg/ZzFRVCQdlNmUVkH2JquFTjGuAY75PVdZcr2nmAinn8KhIen7G0y\n",
       "Bt2t+vHfQGxvV8SwzG99Fejs+rgvvdbcaSEadZpebpk+TZGJrLJ6vSTZjyztERmDiv998hbhpmQE\n",
       "l2ISuF3+DW6ej5sPSMBI26raqxcwkZ0y1pa9Xm1GXXPbTawF3nsh+ZUPwszjNO7qnDarqr0L/0Tc\n",
       "jr+xGGP9uZp04/0A2/cBt9PpPQbD5xtEdfBo54qL05NrWdCe6m8cMksTFgFVTv3+H+gZ/2RqxEnz\n",
       "poDKHtW8G0mBxDXRwTzziRYp/u67Dk/AOmn56n6RM5+yTuQij/lkbrQluCpFTncSlVSKCGe4qJOV\n",
       "DuSHNacEW3o8LjsOwVym6gLXL8a7SiQm4KC74y00yLDjks9Bgjgvtsc9xJXwosroo6n9MSgnQmzC\n",
       "I0Dx6q5TkDP9ycMYIU6HJ+OyO7nNqqwncQbUIHLvp3Hr+OF+7zrGx1wmjpH6Qc+VDvzQpi9M5ONp\n",
       "3gHaoZXtueeipTIbHp98hIa7D+AeUp5qudSlJFNhTjJ3annMd4mURBMGT0XfKMC4H2CYa2u5wyQf\n",
       "YlJ2dd7Bz5UbLbCVa+18wuhulnY7jZMIpqxqaBM8Mw4ILBAvx/sRu6efgos6BrfYnAhEyxptMJj/\n",
       "lq7o5/Ce2O1xTjeXPr/SulQYv+DcT6qGgHmumAllGXLZ/mTNS90Pc54hwiapY41gSrTnUsac2/BI\n",
       "po3/UawhA2XpHlf8zeWrk3JS1s1TF9PdWrwdP7onTHycezi8SzmK7Z2v3SS00adTWffoD/4XMVne\n",
       "fRZ9c2DQVu3aT9FHbhCd+X25mIzU8eKHLyaG1Q4Xo/uDnG6EvVdKaSR2yMfcNmaQcB9dBb6wlKKs\n",
       "p/PKH11nFugu+08fZq8Ipwvzj5e3ES2WntkOb0I+INsmZ4nYkgaT6PmjPyjtDuzUEJsizdCDwDjD\n",
       "zaR0VJaasB12rhEuYpq9Z+h3rVMsKDNl2O4nZIu9EYLaJcxoltKK/IbKwuD2ZgXTt8gN5vR64LAh\n",
       "big17nMZnR7RWafgXww/5jfo6GTHqHtIDo6sQVluA4C4tsqwBn6TQKuJ+qMrQHIbg7B4Joa9wv1z\n",
       "NIzK2rYvvw9n76Cv4ZY/+fbmeYmrR75KYiKHRzeFv36Ao6pPJIvsWoukUf8lbJHUWBPYDMqznuOv\n",
       "SIAF4hgeqZM9zOMpf4sXGvcqnW8y6sfr/AnJplqr9DR0AZ/3/YuB/zy6AIbtXfx94i7oPZfs9djx\n",
       "+H2fymfjnj/8whAlW5dXICYRBoBtS7gXj5pZwOg8HIp01qYlDAbwdbf1HVA50K7lRrpM2Dc+jCIP\n",
       "IxRJc32hpkka1sHCR8v7fPEt4ReihTc2CTWVToGQR6QsJ/w/hI7PYem6SgWStZNSXIEa3bPSPNkE\n",
       "sEgN80o7caWHBLhyMzE9f5/0Mnib/eQDAeWlN7odiARoYP8j6KgTqLvKKiUBnbX55FWZwPLIFgBF\n",
       "4Sg/Rsqn5DnxlaZ/Kxx8MaQzLO7n2aKygjf5TprexVcsXry+JdZWnppCG2DoHKmP0/8o//JLz/Z+\n",
       "vIg+knCHPBXG8xPFNbCxMMCA+E5N6bQuVYhPpz1Ajt6RHM8SxXDujAQQILpdjhjsUVpZmWoqEw4p\n",
       "Bwsw5SaDYJqSZAldkwXS4oAYZ3y+cK0e1Ukhj3wHL34djLpAb5CJlCx1p2FXuF20eS7u+0OHQ/dn\n",
       "cd0iUdK71jdbF+DpSp7QOgSNda/9XEqXn/kQOfKfDg3wTnpZUg3+LgIKc41f38u4v05XNUEOHSyd\n",
       "1WRNRp/NBb/joQFLNRQkqPtu4FQKXXw6T59MCzFCRccsyiPIdskr70IfOW6BbRBFm/YFrLYQLIs3\n",
       "9EKeAoLaL2Y43pbCCz+b+rZ/oTrnGjOe52jHust/ZHumZEl0TyFlWySTa5yBLo3wGarZ+VBJi6d2\n",
       "WqBdfAuOv8wHVsmX89vyAoWl/TckvZbXofuozIvWgnb7nE/qY0Dx30VPgx+mULgLuAkg1m/gBvBk\n",
       "5pg8hdCwuuNpioKdvtnoggmywSJZmjotVKgno00wNjsiOGNMV7sdNs49AFPMUDjMeSZopDZ2h5xq\n",
       "6rO9azApqdnAIc8Z3E7QTPUKii8wHGncGAah0haByrSH9p7kycghtSt/mafvjbJMjBWhpolZxUl+\n",
       "Vggx0j50M/UsdiwV8Cggz6DGMUNNpnqC+y4zqi6Hn7D6NI9oXdvfYqaRh1YIk6zDzdhalET4Fi+4\n",
       "zp+udKFy2k0pn87ADG1EWjebnYxHj1suNcaK02VqB8oICda6FdtMVmhUM5U8DFnpL1wBMQxHL/fm\n",
       "BLFp+xk+9Mir228BKcOjuGjQRBDgXcYb9HHzX5O2J4gSJ8men8IfzKyKxUfQVT0I2pi8dqKA9LKy\n",
       "lprlk6YeND4XJmMOIXRQQVtME+HG+pptLoo6wl1qjydyL2wpR/IvtEsOb9G4qt2JJxHdvDALPw3L\n",
       "TDCfVzUWWFYi1ej3swx8vNYddOXWDpvqGFKEoaEKxHaUbep9mlWc7RMxBESUfj7oAmTxHxwBa8eH\n",
       "cDbF0GLTseBdqf/c9pGVWfKsSI6uADxC3dlptWA2aFgcpQ4ncmJCscmiZBfdx7WosHo4OrZcSQXM\n",
       "et8u1bowPFj1lpyVbSKIcNYGns/BVbWVrKenz7dn8MZGMUOeWdAHs2+nwFVvSRoc7J1P77R6Wq4e\n",
       "+6hHsi/LB5QCcwnj106u67RxWo8MtK8QeBD6RhXtBHin148OlxkFawHV/7ctRa0vYQL825NiWIx4\n",
       "HaI1pRRnYbBnRWAOVBi/1NQo858jhaBCAP3Ce7vaqXYjZmiYxTG25LttCj6MapYhSQJNblvP2xdd\n",
       "LdFUp6C5dKSp0PVfMgh1pRCae0N8JFoHXsmiiGNjIEsyY2sXZO9dCqtm7lVmhTlfpPGcKAVHxFfX\n",
       "lu1u4YzhXjvUxbuhKaxwUk2vwQdRYK9WiiEEi5DfZjoT2rL8OKStoBj1WAmq6Y2V7vvuVA3MXAsQ\n",
       "9lgYtDnpkoRXSLwUzS36DNgeK9apmyNyy3IzvNIQW1ZzC81FPO+477dXaqUDgxOtxIy+aYafmhHa\n",
       "HlrTWQ9k7ASljh/1SYPlyBvmSciBZrLifrQWxyk3VB/P9XbMmMmmjvrh3Z5GoOaU4yIkia7doRYw\n",
       "yEbB5J8PORVyHaPVWAjyRLDi370N8jF6SyhrimMB83Fr36ix/8I2wyPBel2213OfN5gj1vV1xp/G\n",
       "+xYFXZkIVeIH6hquAHE4Ydr0bDfhIlfgcSqB/ckQiieUm/omxMdi52Abfo0qu45at98h9RkYQ75I\n",
       "ULCn51jPTEpdTH7pe0gRp7+FQdXa2yiQfHHUoGMz/FnzLsKg5iru/GOadLk9e13Farql/5NoH9gI\n",
       "RsfJNSUKExZaAG/JAPwh8yjfsR8JH8M7OTIMgMSXK4pmYhWQHiU5vd4To+SB7m0gRcEXtuoZ+jAA\n",
       "L2fBZ5mT8AmqKvhQxKb2Agip2DtaodTMLwU5ntLRGaOQS+EnFsFl/tCGelpgh3WyYAdAN30/Sk0Q\n",
       "jEDxk8EhZGxzVN7/rFCPu5XHbSAvuXKycH96RFs+Knf42quYJINfuWoRSTuorTNKf+gKRFRNS0AV\n",
       "qh48nlI7xsTyzHq4OzzDvnWvoRboN69ZfWKRDVCesIFtcIyomlHOkb5G/jDORMUxvlOyGVGVlF8b\n",
       "CgH2HKyWS4H+D6T73NelPVmzRQivC1ShmeCxnqW4hS2LvvUllC2o0T9CQMiJdc3XciWVy5hNtLai\n",
       "GVhL8ieas2xzCWuR587qXCy1spAyY8YLQ0KQRUWIfykrCxneN+9BR+C/i+DlOZm8NvmnsbU+cWuk\n",
       "S5+Iu1aQ5y5rzfqkeC/KPXRaUI2bqEgmpx1wAe8QqF6PV3hE3rro+ODbOWKQZNBIyAM1bET8cFQx\n",
       "WPDnu8NA97pjxqsDGPuZ/bS0tlvHVvN2LD1zTtJJaTDRZ8mkIW9mNh5Kpq7M4Po4kCZIrytLU80o\n",
       "xfz/gMw9kJfqbjpUCmbOAdeNb7YoE7+W2jbIEtsYEFakxmacGraGVyxBwleI5x8amBIS1bc/2JDM\n",
       "VffjUmeYIuPw04ijeDqaJWuVF+B4JeS1b5iqYBkPAyOpzXZ3IAtyVAv7NVicfkmvqVuL86SiSq6f\n",
       "p3frLgOZoQ/YpQCN6Bfc26mQVJs+jEAt2dnasr9xtIhuz+PklV4hrP5s0At2asYSKbC70bNssvFc\n",
       "yzExlJfLN13x8QPM1zir5EziBSucUev/Jst/zR015YaCINU0vTbcfwSkszquUdWaGrGA3vQX5JIy\n",
       "h4mWJHviI6OvAU/E5f3pcktuxd4JZYw927e/Bnu1BJg9SOrzKHttjwAhHzBR7Rhf5PDqP+r3JATi\n",
       "vrmDbf/e1y5X047J7GcYLLikQO11Du3Nti770m6bhajxGtn3q2OEVV2yw7oxSs5Nbw0Fy+vVyNc5\n",
       "jMmYPBSGfFcahhmXNsvaWXJ67oTXSAQyXgRUUHCP6qOMuBHMEVmiWtjX/7DX9rqu0BUZ3RsO8gNF\n",
       "ryjtQW64n+ziSz8vdEDmPTrpzGTPqxCvEf0nr54lM1aJYdLj6YGkuuSChj3FTRvOV8Ec0/tLVJ1R\n",
       "1RgkHsSM1ItJNp3aBsZCRlIYUvAQMl5I8lCt0r4EY8u9suQONnvd6jVRta594GSXDA/fvaNsuB3F\n",
       "EhBYfJcE4M9yoqyZeLe02q55UTDOm04pYVy1xN2u6zOXSAhXwXeAP4r+4Su4lcQgeVnz9QpXjUdT\n",
       "pY3zudrA9uM5GG3DEdz9oIaxPh9SkkZjq1vz/7G+eGixFqfv4pwc+Wknn3Qp71HIdBMvjK7S0CEx\n",
       "8lsoRco0cLqScsrkLSc6HsWR3uKFM5hLrwAE2nQbqQq8IAlwRHxpjxZ9kiY19dJrMY6y6b3jVMcs\n",
       "2yao0heNhLNl0Crc1s9RgVxPk7kvhaXeL7yAGIUZLjU+cvCOCNfygINilNINkm9tasLgvvkIpe+Y\n",
       "w+c8kNTpZIUQOWruz0FtgHimErVrpYefEcbDp8Ow0qxZL5tM4aI5VJ+EfJTHUGBAbIai2ve5qZb/\n",
       "eOzb9jk9skCgZ3+nhR+w343J88uE16k4ayHAcguZcw8MogYV99SgYuzBraTVdodLY6nhd5ZiG68O\n",
       "pQ8Nybi7uyNBwUGJuW72KmnTxtSJXRIlrQumLYjHQA1Wh4PSG3ZgjF0PuV1OLHHWEAjTSuLU061U\n",
       "Z786V3/MvYxS0z1a7zuGYh+vMN+2I1huoHR5D7yrOReZebkv17hSjD31hhxWuSsIPhDlj/Dh2Vky\n",
       "do4Cv0jeGwjkQBIEZ9iDwDZa83n8AG/qswc0s8Y07mlfXOmdRcwHnYXK2Oqv0F48M3/LvwIOncDL\n",
       "8JH7njrAfb90s0yjY1tnegIERjjdwzqD7sytPtHByjvWsb2oBrfAYvF91f4OmPX5WAaC9D9PR8yy\n",
       "uZYN1CDfu4LnvDJeU7SiM3N94XsmUy976tmbGYaY9B/St2wplo9jMRkG31FlovLgUqeyPzp7rjH0\n",
       "WJDQLE+CB2Pxfr6ptqCe4slmPA056ejyB3jdFNSKznXGEnR/xySkCNS90/YX3Ie2oCdexgtbFfnU\n",
       "kdRyMZZu0/b+y6M0KdWXcy5CBPyuaoaOMOLnMqXlPChp+cchBMv+Oemn1DRr08gUATZOGZEFHyus\n",
       "hYunW82gP+fYPAwd6jSp0PKrMr27itvwr1Te761EjjxbjW/HyB8hZBo+90iwFvctuidjITM9QXaK\n",
       "ZnGVsbQ/U6FSvsJMsZfILwSin4XkmAefWW5oPcwAzagkhz0JWReoRJzmmUTImQ4F2sDdP0j+CF8H\n",
       "hKXMOptCP1gDF2b1apPrxWdLdOoSGfukuqT1LZ/9QFpBDHCiZezIwlj6crF+EF0hYPMqJMEgccum\n",
       "Mf1hnGnUTQj5RGpR9itVXTEIUm+PNr+PEzsBhmAV1svKc468rmRPh35uJaKXr9p7G2nWfGGyWAOw\n",
       "T63NM+Lfz3AJ2jljsDzZExj7OxvoqLyMVfv4mzVpBktDHtF/9ChxgDc3t39zIjjluddbwNp4r/OM\n",
       "QMEWyW9yDKsAkKH8PWFlFwRlNdI8Mj9rkLBjS6Iv6lYA05tsit/0wuwhbM7Wk3vAFLVTTOvTIq3C\n",
       "2ASqFS2xG9CiEcdJZRPOBFRdwmRSupTDUYecb6mUobR5HeiojK8WwfnzvdkBjzo1fZKYFORibrYx\n",
       "1LUegi7oCJd8saPQMHvhLVYelXFIKfabdCBUWuDTGWvCey2H/UZyfaO/Q4bJlqdWVUAB0K3N8FCr\n",
       "54H24S+RoF5AeQ9IIOwApSHy8w45XwsJJPLfTpndJqJ4F/gSZ/Gpdmk502L8hWa+tvdZQMUzrLTR\n",
       "RYO7aYa9ixAQiZztHHPWST4Q+s7SoMrHHvI+03eJFchTkNeLymHy+kqQYaesjgowEtI62n9VhmEK\n",
       "Ixl6m/nmLZopbDYZYXQTeKRuwQGTQT9eP3b+6EwDOLlr893QZmTYLO+xBmb/znvGGt8zmuAAD7WG\n",
       "uoV9qlL667lKW3qe0UHaGhVsQbHWf3vOLWYOQiEWw2QdgKxwTxaEtnTSomszrMshviTwHEQPPmcL\n",
       "judLJyZnCLY5wC29/qRriw3gBMUGlOLNvJhKFCCm1674JGvzvWh2iB5feo/GPb4FvEfShIhyfbAr\n",
       "SyBNFsu0nwkfwnyjA5Tn8oKUZDuFXfF49dmaIQDTwzaBDUs1oYFjUbmMaIdwaxn9ZrPdzu4Z00Uu\n",
       "EeAyeoivDUUlk4NfOBaWgpbklAvkCSjkwhZ8BFkHJT/9eZrAi9AkEFDa59hFxiG21rUF++/7lGqJ\n",
       "GjUuuHuac8wE2+V48D9lzkcxWMTjFWJ3PTVh2QECnvHsH7i8fHAjRZCtspe47noQwANCVhD6I5dh\n",
       "JbQYuQqscT0d/hauXAdSVdKV0ddHNDq+Xfr05r9a9JVOtnXT2fs59AbKwtbZt/dLOTcQVTvRxEwp\n",
       "1OUD/ObCDCzOy1WTyQ9BGDn/uRZR2mLwyFXPps70zjjg8okUTGYXiAs4deCHSOlhVf8AfWH25o3B\n",
       "aonwf/f3cNRy/FkvOb+Zb+YS+sXadeCw0ectAl3/sS6Z9ebwZXpAEnOMpJLWoAIfkVc+DmOg2AZJ\n",
       "1fs/1Oso3TuHHozYBIk+roEFpTQhwwqt+WK8edMAjqAR30iL44yavdCq/h8ewzfMpFwLHWnx5sxu\n",
       "kEhxq1Xz06mwuhtga4BE565SLm5lTCPx/fYwER6NDSuXyuVFceBBHd6EYoUDnUuv2sBfRXjUZe/I\n",
       "rCwrUUH14CXkYXKWUkRAdzThndRtbrtX00H6wKrr078tt5Kx2Ag7KcI0o+ee+JkhSWOUVHS7yzr/\n",
       "Bl6KtwWjtynaOIucEfRhMht4eRyTMjrqAOrcl+hUNLQe/VwXUh14YkBVLyfAKe8A6LAGmSXCuPl6\n",
       "UxHfYBx1LOExsOUhYmx14AJXib6//mftJSNJwvuAPSjCHPlibeC2200VRypEr5W6cv6j6y6+dw+Q\n",
       "Tp92qy7WAQ7SpPUYTxTs319/C9WGs5aS8RQWKEX6HDoyOTaiLP5HDpPIgaXQL7ksAZkVUzotgHxM\n",
       "4BtFkQLRbRRgfvABsxW2NnwG5qVt7NZCkLFgXwNUT9aoyX9Ei86Lu58VypHQaqDBrIZPEfGkCSnK\n",
       "hE8QYTWV5RegBT+oTzKWr/thxnFbZ5MO5Wc1VKk3xrQlXGgzKn/3KMAasfLJ1vKbx4HGMp+PgYbq\n",
       "xZL9dIbd3XXlz1NPhPnGQgSrro1WmM+SnIwC+j3jrF2MKjShbXxwMLMi4UWxmF7v97fb6uu5xHCn\n",
       "YDHFvAYkcl/7krQYNUrYBhMWykZGRdH3jzHFoELhhA7AH7hkopJWENR/WNlhkeyL///so544ojxz\n",
       "cFkY7rP2U15DHmFsFf3jbAvgrTNvHKxzAFmXC4N1FYIXUuOvzk3/PbCmW8hSSbc33Qnmr1jNU7b/\n",
       "//47/qkO2+3pywNkPUMizSodteweFUed3YmxgZ9oVsE7H868FqQLVmKlil6ls4RnYJ3r4zs6jGVx\n",
       "85AbWmb8I9O2YG7oCPr8uzZZ+LrhN/0umSBo9XlT1H0OK2itWK8YFNl0Nu3pDv5lKlX0pNdAA1b/\n",
       "ADPkJpX0CzEPD8rs0fmkv1jnmNnM5Qjt7f0UaCz41fS0F8B1iTDpM9orCSxSz8FrwYQAwgspCCSf\n",
       "kLfHCSDzAkhgtnMkc7G+YgU/racwMkSAXi64jRJW2SnJTpiCNUbVAgW6ImwrZLsPze+HrCi2YCyi\n",
       "QsYHiI0nyZUES/DQVFhgscPIVfDJEsERjjMIib/laJkaelx5jQpGyN12EpQEu19PlzFQUfuWUuAN\n",
       "kpm0UdG/Cd0wNZ7Wqyso7emGlyDv93MPZK/wRNc32i49QOTt5BxauHzNkt7KK/bBgRGv5jgpAbsJ\n",
       "P6/2wq6KDbD9cEwPJcW/uOY6c998A6YODbmKxtbLgXkUbRwO6LcWWQC+gZlmdfWjGphi/m4/JHUJ\n",
       "8fLlQmpvEtmcRu0bLu1shbgOLX51sangkBtUuJFkTlcexdvmGSRy0tJg5j94oW5uLSdzRX2D2pMH\n",
       "EjBevsv6+nYS0G84ARlVPVOb43Eew9r7m7PAGK26NFTGi0GT1pGGe7HxBANhNrHs0Yl6B0BqAXb1\n",
       "JW9VvWk3+Py43Gwh/4FhMCkMvsr8ID94hIZeHcCJ3tGV1cjlZA9GOf5316NJWeA9aGltl6iUWHL9\n",
       "/v6w5PS/LIEqyl3q9B/XPG4NpsuT0JIgSe+aPpM4nRkdTZ+/sDafc2lPAU5jFH/Fh4eFpkpW6AYE\n",
       "HqgshRi4KKiPBWGHaJYkpWbKqY3NRbaWH2AUkswkyD5y98xJf0vyhrywJ/sbHhEuNjWZG6Vqlv+7\n",
       "34BaxSYeXP9/wKec3LM0OtW6WdeX/2CBV2kaGZUFWFdfyFAe3A2VSkEJzDgpE8D998/tDLj91qSX\n",
       "RsdND1aReAGRqvgoVb30XQKQvZ+hw+mDLyTGvEG1yjhdy14ii82Joj9nBLiQYSHEW1qF1u65Dc3x\n",
       "JzNjJaTD68lGNO1iHYhB6AsvgYrYBtZor6v/KbdcgOqZovi2Is7YE9TqoA1+LcIt69mLPBW8BfII\n",
       "lwbeWG2kskSHX2Zq2WFBQtpwdF8oN9stlut+oQIWWX5FJzpDypuYaQy5CfChVGYY0wwBtO6sLIJK\n",
       "b/Y07iO4z4R5JFk0ujnkY0dE9z/f4wwMVfoWUIos8WKYOpE2d561PzE/eIcZa+Pj5VosFDvvvtvY\n",
       "0poVPDaIwaVkLt8AJCYlG05J2TOfqWWzHbjy1M0s6HKTGrpsHfdI1LlMdMUJCOSXDb8i7vB/W6NF\n",
       "fWNHwRWFLAz2Uf4f8zYtznOACesHjyiYA99kInaxTUM9yI8M7tl/Jh9x5E0PT5/C5o8X9cZ/uKQM\n",
       "C5fwLcTPzCkoSGExOACsg4JtvMlqsEKs9eMiOTqEnfEaCHl1sAtOalJ0cN8IDKqXHpAfOVsQkROc\n",
       "/wNze7iMwouuh6V4wicrIf2RzC1/H5B7VsbYFCt/UdF7e/oxfbN/cDs/k+hVBgISXJ8+4ZBC1ASZ\n",
       "Lqg8+BwXjGbAcvEMSJRBwMgEL3+XsSUNmeg3qBwaQ24JwLeQZpbgQlb8+c0BQRCNfjVjhJc4HuaQ\n",
       "7BLmZhGcx5WoYHg3fLa+LOT8plLRSHiaJJOxVe0lh9kpusZXImEL2feHunb6BMtJQGpqzURBPzGg\n",
       "uk5EHoPIMzrFVduwyEYTtYCrDERvkkLGoHrBkADXuiCceiwnK+d5/jwR6FcLKX+YnoGYIOhV+zTi\n",
       "0Vpiyuid2Rw/zqrh7fwf/aMiAGcYrwJ6IKC2y885lCkrRNZQL16lfo3LNpF+Ka4pQZvYfClZ7QcS\n",
       "amweRlus2hQRe+/lxsnmRDrcfJE43LPVuyWnd4pf+R+DfQIdwLjT8+BNsDbly5cJMwrXo/IKBR1X\n",
       "yTIgbZ/vAp8UdZXoOqZQ/63y6fZCsEWanY9MmQBr3Uenl2oaTv/5rB5hdDzMyH9PNYSAne9wfLQR\n",
       "rl43DXJpsIUt5zUmCU2dkHt0Zv9y4pa3LSmbztnwLwqBmzv9NALF8Hz4PeB527bSInNv2vvZqlt5\n",
       "I3YNH+VGOw9U3LLWGTbY5K5aUy5gXRLi5QRJfYBC71j4JDJjYpGSPuQMY+3/TgJVALILWYq5tgjM\n",
       "mySWaCjo/OcJBkzMiKDwDaIpvSqhjWQwhch/CO59s6ynuNsmijCVIoMe5iD55nT8Iye69DMla51i\n",
       "gA1RzKrp22Xspm2DipJgQc1DiBvaQgXuh4taSBlJDC1ySn+j6ovwGlWs3zAPociEwDQdU4/rbFY6\n",
       "ydcPmJdSZI0Bin3DPjnd1PsKn7/h9JzD5XHsEXeK0KPz0dY2RJIf4twWkUtj8Bm2oBjrxqW6tn3+\n",
       "2xM5zyvopXWQeyugzTPutC2BslafefqzEMHdV+UlFgajyq2ZoxQUj3CcOm2182MMlN5WbocgFGMO\n",
       "IN568khrXopdrWoqBIGJCGkvPGB5T74/mzUffz1cqQ/adS6tYOgMNwMT4HKAZ+DTASK6FPP4n6ZF\n",
       "PFG9W4m7gs8nOH2AXKysnkv7j9GX2bYJXLnIMqlf440X5NkvK4jAd/morpMLHLBBIemYnBgLPYSV\n",
       "wryaHA44NL89YrTGnTLLfqZgUl0W1uy37w031loKIjNtQIIr+2PgZ3Z0cLvyYeRD3f3Qq3abFycW\n",
       "nU2tsEtfgwPAgFpFfCq8bIAAcUfdMqvT4+uxXw+gZ3xHBEvgWg16jIoqg8kuJN5qLeaKQHLCyhqO\n",
       "/kEzqJ2+LWwpvSBbmAMRhirKR4v/c4Yh3YIrC8O5Lc3jlJtAbht7eTjzHvYpUTUeEpwsawm4l3I9\n",
       "H/DwD9An8al5QLHNvbodU683krtlxSDMlRHhkXdLzx3t8X5dmXbp9D2Dj66HqtCzNZg68k69Yqgy\n",
       "CoZnHhIIsTffM2NX2EULuxYPbqLGDGeZwLSVrsXZp4iznQByv052lZAgssiVDyLp77e5Ox2jIBSf\n",
       "nOPZ3bB1iHtfomWV44BdsdR5Qw6MjXW2Rp+VJSgRcuYLQ4AoS1SA/HBAEQtW4/qrakUfxKg+BNfi\n",
       "xDAsPXYFxLZb/3i22xoMtzMSoEFP5y/oNLhJLvDKYRbPCCioGN6zfWsBwcPToQO1xgUyKS2pppeB\n",
       "By/lkdvXeSM/XCxkuhJ88SgjcpuErSWITKpYbLBKbtuJ07pNFVAngye547IaXDrvRmb2kmwatEqe\n",
       "2tRLozcGxLhLcM/Seh9xiEEcb7V3dYc2Ha/btgiIT0KqTnz/p7DkHQ+UHktlvKVPY54W3Q+5p0/c\n",
       "qwYBDKHrf8nAiZ2uY3HIkJOHwwJdbK30SiFyIbtqJZxeE37o4pI/XUZzs4fI/LMcpHpz7e2DKNhF\n",
       "GziikIQsvMlAP/GLssGIrN4EXw3Vxtp19a9eFRurOBdx7rigVWFXYSVuTBXE0xR+79s5k6r6JjUB\n",
       "TDG7lbqzHWOg5U35mCMFTRg+Ttmqpkzd0ZcW4bTfIvbDu+A4syuvM1U1WHefZGY1cgfgWOxhnJU2\n",
       "i1xEb/1z7JCo+SNLK9V3NFgDidsC5hC8cIC1uskand4cAkiq6CGv2Tw1fLoOTx2yGFQLbdo6d5FX\n",
       "aD/iOywt2nkK77Mfuk/y/DUaKtZdVngIbnegA2Nv7LjrKxKlQ+/+3e1DZsUOSLgXDL0KZ54e6TPf\n",
       "10/Q822DYY0n3azbzn8KGxqfyGxw442iA3ef7tUT+6lE3kN1dJLmoRisTxAA/30xKfYBc2u8ExK7\n",
       "y45C11cFfx/hba50fcoNi+qjHh/pzBVrwWMtRbFP+NakGJLqje9eGt0EN8rJ56LX0Qo2s1waxY9N\n",
       "7hxcd2YHWyb0iqa3GRqh8NJmrbd0MXRuxa7q24yfwb1jEjPkHubreDdSpPGpm8oCNlz06OvfOJ/3\n",
       "HdegHeO1U4RwAwVPu0VaO4baK17VOsFlgZUpJrjqu2ApX/UUJKvlY4Fj8Mpxot4ve0OGuzBBePuI\n",
       "FW9vm9qBtRJUWW7hfu0wNw/szfjsQCzIHp6ZNaGdr/+7HsdqRN+o4cdII9FIvJ4AUYp54zsSDY8Z\n",
       "gPB1JqDEwLR/c2r8W5hatnaPVLuoRYjdV4EWgV8OR+pwm0ljfZ4SxmKlWDWyFP0lI2/ySf0IMvnE\n",
       "4HeqwpYC/IAAO36puNLdvQEB61lo9FQQ1SiwIfFo1KikIgRQCawPXKIWmkd3NSpdZO7PrxqjJ6eF\n",
       "qWH4gaExyKlKHE8YadTzPxlQzgEeYvBnjQgETUf3dzVnt2f9nMB4+fJfGBjndP6dB+aZIdeA0u/m\n",
       "2jzsqotUmi4OJRlipDaULfbn2vcWx9Plh3QpIJ+BoMx805DrUSe1GXD5d0UxckebhaVK0+2GatM5\n",
       "4mS4vutKQXE0LFrYhHo8mAEo4rS8Loom6TvvPNaAMHX+hWf2aFX3n5BuqUzSHxw3gDgzshkQmlhU\n",
       "+T1JNOqZ2TVaZ0TEj0aCY4pabiOryBgG8h00a21zlSNBCuERcEUc68RLPoqqb7N1Ftu2Ta4OAmSp\n",
       "8gRvYR4ZJx9eZdjSFhnkPRda6wR6KeYkyfOqewLbiXb8UFzPtSOvqL+lsBPAANRW3LDxSLeK9rnK\n",
       "0nSvY+z3Qmj13HMLuqHcGYWeGfu7PaZtBvBOBX0DAsZXV3AoMR2BY9st3J90WBnnex7piHxjuDU+\n",
       "03aMYi0cEuXrGPJ1U8AKTuHskkyFht/yANwjPeB8ny8zNXAfrr6paTSmbg8C3yb8T8l5EjycyWkL\n",
       "Rl8VZtWjTBSmEG4JUPWa4w+fnW+TvxWj0ZEBrZyS7xi4led496y1X1olFDp2dT6jOSl/+AoMqNoX\n",
       "1rYmbL6R06YFuq/MwsQ2fWWYVeKNK3DxLOWsWkSHrmrvxtcgxX7on4y8ehSlc5P4S2Mo4DKCCxjp\n",
       "+tFrU4A8A3tYh6W3xaaEHNu9DQl29jNrEZWfCA0H0XOo+o47/YuNNk7w54W+nY6NEDoqL7R0Qf8j\n",
       "VStaCueVQxP0xvYHhF635Kh76VZ0egs/dzfgNaje/UJAfj4YUk7JaulQIpojS67hYEUYPbvmNgOn\n",
       "rBGEN+s25ZYa3ciIsKqAAzHmNAAAHHYTmwAABZ1BmiFsQQ/+qlUARRiRgAEb53Lzave5APret7zZ\n",
       "Uw81ezaJzsItq4NraDstYZLl94u4X5xDTNp9ZOXnaPX18a00DLXv/wzYPZ8T4b6S8LO/F48WXuVG\n",
       "QZb3kBS7Z9YUSRBz3r4dXmJg660tWVsrO/ZLcapGMi8CESd5uh310RblXWF9CepDUvhzYukUoyQZ\n",
       "KTISE3hyTBXBH16VvIyt8Py3Q99xu9yANYCX4KHzSg/nVfqvExrqZLDwv1XVWoXgiIyfevUBG9CG\n",
       "0kZlZVkgVMq36dCNN5MUgCbI5hRL8L43tnAOukE5E5HRj06ZNY0VLagVZSEL5K4eECfoGnKvTyhj\n",
       "hBynhBvsARGQjhdudpplBsJQwjtkerdrL7+6lOUDYMe3v1t30KLFvD/eX++G1OBY+K77/MWqZiIz\n",
       "JnV0G3qez7Lu6mY7w25Lgv3z6vHwpC711yVKwcsXm8NsgjaoAQ/vOZ680+pBxmXoa3hqF0VOTZz5\n",
       "sko20eNq9IaAkvq9Mdj30U8ILE7Ctpk79+SVXYII5a66z6ZZ46+EuedS4HpTA5ZaZlKoGgw7LKFw\n",
       "jEbCkKEM5boWJnEmIlypsyIxFGrq1UaS0f+SWcIb8RB1oGX2KDmAiqu4BI+RA5fYH3al0CXkF2vd\n",
       "C7cE8hOfeqXuld60EPe3Qc5FC/kksZqCYTSyBxFMmraVJEsf0FRwidOGI6s0jZuB75G+DdH/d3N3\n",
       "erbKXrCsmlpld0b1qlBQhhzVG2y7wjMwuTHIE3iTvAbexpaJSEz1CvxdSn6bxqWu9glLvaislTjb\n",
       "J402sxA/Lxtdg7SsNAgtQWc8SllgptvHurytESEAHD135Tvne8o1z5wVQYGT7j21u0GZ//XMi4cy\n",
       "k20j/64Jlf7JZV+tnJ51g7oHluuyPkd3fC4MgVljHrZ66oPyIWxyA/cLG7vEb9fAc73qv1BBtOv6\n",
       "/2rY4t2es7yUnA4geD2hcpsTK5kKdyHOVnKUe+J+WjMg19MOmda9e7ydm2wzceZc3MEQ2ir3+fgX\n",
       "XCgfB/QJsjEeIMowvI3M7aXNwIkXqQE0sVw/GddWl46zgIzsDkf2H3Tli80F3t8a4RQ/isYmzc2L\n",
       "9z2ro7GA/P051M35Jv4EXQx25D+2FsG0svLSPdD7o288MRsN1xxAG6Fzh7zkNSfaLH0NBwiBmUnZ\n",
       "nodHZnG1lR6rXOXzy7qRtJRX/b+7roNQ6RbvRgPj4Gj70a1Je696b5T51t94aG+x/xEykJGMr878\n",
       "g3l9Vlso3n2qxzb4tWM19k79JxkJcr4hoMa1NvIPsyYByPesTGoiQ9Y642o2houlcqNIKjDC1b3W\n",
       "rBJu2MwomawnySkB5yjEbJaXGEA3yaksjyeiJ5rsivBAFXZMUGlH//9kbdZ0EJNeNBqsfaXei7mF\n",
       "Ain8eKpjhbZBYk3Ce/dqvS9q8+dcUI9wTXfPK9VvIfkbGMRyo2GNMTrLx5GESciTnl9L2X/I/9Ew\n",
       "jwPLRwT3A11EySgtSJvMHFyRzkQHkkJ5cRSgdkLeVmSgtTs5oPBqw7CeX8DxTYS94gZyGRKq/v3s\n",
       "R5oZcf/7KV9et1w8UAl5vy16nfkgQfOHeC77X8gcP0p5kEFnbdSgzz9ctOsyEvol87bqh1QtVh5q\n",
       "x3q6W12EVk5bjjdGqNkzpcxsYXGCeesqp7O/I2/o+ucaOJd9XBlOz1thZohMvwgvtBJ6M7wXzda+\n",
       "ziUvtMOnCyJWHKdbO/5iWL/eLXXUJtWABn25kJtIpb7D9uv4erRJ5nBgvjgRKpTJE4K5OsdaAd3l\n",
       "4CsJp7Y0u4LDeb8xGEmGFUGoifNLbUNxrhpMHvF6jCGz/RF1U1QkfYUVRlIKsha/dYdgUwoPNyvO\n",
       "nYAHtEBqP4cvkM7WOlb4Cfi3wvRIA0NqrpDtqpM8UEWdgowF+d45q8AAAAR2QZpDPCGTKYQ///6p\n",
       "lgB1PdKdodHpAu2bfg38lSKIFxn4nQDQP5kOt/wleiBKU16mTxcq94VDImc2xB/TJ/YYLMrF+CSe\n",
       "TICGNOkGhaSCKqaAw7Ex33GgIe9g0BJXRWejZdR0tNQqETThNoQHAwg8fuMFseqfBw8yWnSFX2x3\n",
       "PnYQfj05js3nsdkkQZmwk+tYK/1JD3IdZgwq9rs4FqSLs/s7VzzfwTOkHXLS3vNzOCNa/cUYwhcG\n",
       "ZeyVCB/hrqd1DqGFIrH3o1bG9RfVw4rI4c2K/UHxlSfEhWX4v88NetVXoB6lqoVOeewBJ//LtAIC\n",
       "A2fIb6qV+qhp2GbZiVidkGbHolRk8ISVWAHn6+15TXN3oYmk+mIKCgKFtZfcrHntly/FgI8CDKB4\n",
       "UwITnDoYpfC9OCaiKGl5WQ3XhIuHW1C95X93REAHEFDcUiZ0wvz+thQOCWWOj2+l6GhJTf8pP3i5\n",
       "+aeAsFUlKxUQsm2AStzQJhOqlBi8Clcuc/Khy4a8+ZBcjM3BkbjbN//NnCElRv81u1Re/3HimXLJ\n",
       "Nfjq04McaoD2MByLOspuCKWmVmy9EEVTRGPbkTbNMIgCC/FNxfBFk/t6z/sWobGP7gTru2TNbVIV\n",
       "kGmFmcSHPkX6wL1ur1mS1mQsoMoR50kOvHeMZOVZyrMdn7WrzX6D1Ub3gllSqjkv53lSv+hJfzz6\n",
       "UJCmKolXwrnfyvnw/oXWrdzfXHugSW3pNiCbMNNtUtc2ZO9Cf2kNvm3456WTQvRGQU+tnUf42lHd\n",
       "xvtrCvi7uWmFBBu4pslOTf6onGGPQeUDkfU+IkvtnGDDiJHIvDwnxYIoltqAqyDTG9QLPqDJQcal\n",
       "VpsiNNO+sTD29VsAGh7AzvofuXPkkbkSxtf4vbcpfoThU51/sFFsXbPlI1d61mQaMIaTTwFqY1x1\n",
       "3n7KBoCvbInoyqu2LdZrly/yyH6DPh/UZHZ2GpyGjYhRCd8k3KqsidsL8VI74N4I1QPhKejB26E6\n",
       "kUauxDCzSEi3Z8+FVNs3ajoED91MxNWwOPBaGS/yMDGCS7gnyfiWZb11JkL0okEi0Y3SL3B8qv0s\n",
       "S2dM9r9iEm/J6UA/2USLk5mfwSCkjovFSCFMnJNUZRJpqVUemXm7g4aFp+8aR0KVUhYoxCilsSWM\n",
       "dWkeKelzvRmghPkka0VT5OM7YWpsZyacGzYFIW61v15IEUWRcxjp6B/WnSmV8bbsXRicp28DRrSr\n",
       "tclqkMDlVyDlLlQqdb+CSSCGNhIg+ptDbz8LY5TPkh2rtH39z/OEpSAaO9mMsJqwJ+ooh1d2Yi9F\n",
       "yoz8BnlE3Qd0mc40YmiGQPggSyP3M6kBgCP4fsFTlbaFWQJDQdt4P8LcszYKK97OYlwrNzz66fBC\n",
       "v0twpgoWrzbLZOmbU5RsGxLHf+iZMloum7kJmMbgMdbgdy1Z0kw3RHUVro+CXvMakU5+jHerViD/\n",
       "KRqe4f6GvRXtoDkpTmlBeRNcMxNAnALO+rUWoy/rktN0obihgGcZgeCKfddQhs0AAAHRAZ5iakN/\n",
       "AFQTvjnQ6to8Ybh3ehlOhTNEwAAhIBKGnAWYqVYY5GkHhPeMBTH5YSYt90Sp7G7jKmXTECqD3wZg\n",
       "6v8RY+GWuv2KMq8fLzu3hecLY4KDuQPlocQA6sInC4wq+TC1dsZk2cT5c1jGvC9TpWPWOKN5LoDJ\n",
       "riQ4QVt9BEFIOINXPwyll4sDN9QSAWXd5IUa3uZN4ePX6WGRtOghzqGvKPUReNvuzKwntbPHQNyv\n",
       "gwifAL3lr9iN/j4NsCc4EP67jtv4fYCMFRCBbA+yLBe9aq4ShDelQveb+Agjhx4KU0buv7B+6TaW\n",
       "QQXAw9OjRurepzc669lsQk+nALs3DltNn7rAE7vzEKjsTRQVCXZt2lCu0uME1JE7e0KHula2vGhI\n",
       "JNCctQZ1uTuVZ1wxluJatfXqIRv2hknW3rV1KUWz4sgxKYAO7pGSoRov54OTbLgueygvvA3IyVCt\n",
       "q+wD8wYybigm6cmtZu6POHPY7k+2D/xlehYuXDBrRsWkhmiaunQFFUJsmxzevoRqbqsodFfzh0zX\n",
       "n20fC0cFBXg/2Ld1dcuQiVEF5PI098HQ0NLwyQkNDNjLUdaIkKyJVX3b4HS+sT+MhRafrn4baBQC\n",
       "tHkwAAAEYEGaZUnhDyZTBTw///6plgAAAwHSNpSAE02qk+ehZBHd7wc+D9880j0ES6schTM8OH0K\n",
       "0woitmqGx9XEg5ZQMSRZ0CDWCHS7rOBU8yIFXyLwxDlt9l/VNFFZRM0u+q/WrOYC0Pm4vjabZoRs\n",
       "/QW8GE0FO+n9krrfxczaenCIFPzGCQQznYORQWEJrV8reAzqQIzAV5Mus9sUSUVsF3QutBJhEKlP\n",
       "gM4sTByAN5MAt4pKtSv+H3fbQCT160b4fOHx2x8x2e7nnwEQi6Sm2U68cevS9N9za0asy5RfsO0I\n",
       "4Z266pYtRz8VYJ6Q3o3GzHV6Ou/d9f7jUAFpB8U2bTEZai57WoGZQP9wWE+o6Kf5kzVJ3OppMm5K\n",
       "ezLQq0wvwkKFn/N9BNhBHpWoQSN0fno3ni6DP5VpcZhcVxcu3k51rg+YbdbMLw9IE+C+n2K2eJVb\n",
       "mfGKlqs+v5g0VZ6NC01+pSVnsBoaPdwdaKNtcsZMFxGz29WYhIgekS8xOmOKE8V6j/ZSZDXiDz4a\n",
       "jLMcsVrWXpTfADwiCSS6w7JxvxmVkQv0MZxctF3BvpUVhc4RwIKhmsT3weazoBh6wnR21ARW5Nuq\n",
       "phUIzbKj1D9k3mltpfa9h1ulE8nmwHZniScJqQ2ew/RvmljL4nV+tJTpnJ449+kXYM7+ihW6NBCO\n",
       "+zWhvZX5xXhTQGPbqGc6I6P5xwuLc2TftlPsBDoSPPbbhbBFWxF1utIxwMdq2Zs1HRpfADTd+vrm\n",
       "rOsxJhsSiz6Aov7L74OnPQntAQy3m3pCFKc3Scguvtao/BIbvzH3UCYENRdIsO6NQIT2RksFLX2w\n",
       "NkyBUrF+R4nO6K/OqBrTu4rwpaiTP3bz18fu0QPVjYuc8owa0h8q8Ly+FSsv/rw0tGszS0txtPmF\n",
       "s2qiUZdbB+GkqLfXF7rkv2rMKOWMHWCM3qeuW9mEWFRL9++0unpH1C/zwjUSVf90bFv+RkRWHgkt\n",
       "jJ3xMrqPy187O6wDUeUzOGLUiSRxZGu2Hs2WNOkoad8r3q+LfcfH9N/lRvksh5DUasIJI7m2EJ2n\n",
       "qTQWohyx2rrPQcG3r5PzCB3PRo0ZVftkcOZXIJnWQIdCp1rmX1iakoyOrIt35YxZD0G8Ysu9HG/c\n",
       "EmsdF8Y+SnsDJdVWzZBXLZn/XOrR4sqEWKqLJWSQZjNCX9uHQ7XLpSCSIgKW/u83nWbLiM92TV6u\n",
       "MZyD0nvPbNdazEpxjrHQLSUYzGhKwYIm1urMNp9rxP9VmP1d91E7qBF5Keped4bC1JllCci71E19\n",
       "wQXRxhzYGX5DFLQZIA8YV1520zUbvB969qt3T//J23gfhzkbw6pX9qaItHlr2UAPoSMFYF83nFgG\n",
       "GtF1fwvDkIB7kaLzXNdjN86BVpxNO4L2vaLHfOhQzhVWdpDpcu6W3ou13w2vAOlSI55CK8gI5L6I\n",
       "tdSG8DrXPyZ6hFCOQM1InhVq1VLEE8I3HCw5JQ9vX93h36OeN7iUoWjYBv0AAAGUAZ6EakN/AAAD\n",
       "AVB58rcgATt7bQKNjs+TPIkGj0iF1bb5ULfhXY8SmGF+zyYpYt4AK2TekAvwBF0IWfG5Wvh0DB7P\n",
       "2ncT1q22Wcz6IymWGDnejFudh4yhZ9JpTES+FOZN9kQQJH09htZeBJNKhraiXhcnjG4g6YMTS/3C\n",
       "TNMt7qFjRBubbenDpK8Vrxf4LxwbioDjUS5KQrxiWnl0pAp22CGgxLBuFANtoZzYTULIi06bQFMB\n",
       "8eTeuPwsyeHRuyIGCGW0b7r5N0AJy9WBwJlRoSBofhN78ueatl21bTq1JUxo6AIlF1/XoDkEZXd3\n",
       "jNYqI7E3JQubWT2uvr97yNaO0T7Uqb1gVmgCHp7HMPz1dNRmACVU2z5vreMguAHY8PgZNzux0bp1\n",
       "erePh4PfBMMFCuKp4v9SaWeSaxysh845bsiHRRgmd9lAO0cYoYvktWuTAOtqbvP0Tt2xNZloTtzo\n",
       "q05854OlxJmiXoCBAW3xw4EEL8eYI6a7MQUxcVV1y4tOn7xhOpymqoZXiipXPbh1bxxsdeEAAAM4\n",
       "QZqGSeEPJlMCH//+qZYAAAYLlTB3biP/3ZbO0E7lGq6G4Qi2aW8mLQ/hJEUAk7zRMNO+OKiK0fjo\n",
       "zpC59vakOlgkksWykk8NEc9vofcoeoAOOAq7h3EC6I6P3eZNif3XpUs5OzPmP/9qnCz70u4fKl7e\n",
       "RDWb0IKQD8jgQ4DHtglHCoknYoFqZ0TacEkhHlW12rnJ2HurmO5OLJEDYPoOia6+uJRqRG742RkF\n",
       "oMHsXh+ME/B6zhamvhKLGGu6ct835XeKsGH7cBhAhCEi0EBsYT1Zs8BzLjfsCUBGtWYGw6i5Sa1h\n",
       "xkk+BfB26LjT1wvhBbIJS9POwti+27fWeeW38GAxZvCgB2LS9ZRXVyTN6AxqWjO28wUMGDIUs1Qb\n",
       "SSysmDrczuJo3OMUfEnf+GGbwJB32W22RRYnh/LvanH2cb9+RoJUoObQiYLoof1OiQIiYBpP1FtW\n",
       "yX7I+KpXkyvjrkLmJOxAA00IMBeVPzjeDurMiW6ECONDfVd5P/JZCtm2zModpskn/Hj9wvwS2xSn\n",
       "lAPxmLqFCCCVOn6102vcNbhQtJT5VCNiWtGtm0GPpxLc2YxFjqSjjoOOX7ML7D3XMlclPVgnzUrO\n",
       "dphjzKZfviSc6jXo0RpZm819ScAFlJ4YHayrvxUwtF/SJ5/ZjDHd6Kt+V/t0V1CUb//yacuRKjOt\n",
       "H85TN+1zqrbpy/uXh6hVoxSauBbY8cqrRnAxCo3MBy0kKq3pKOUJMq0iucCCQHLSqWEbFCTsw1J6\n",
       "JEvvY1E8WvO/91VqfksAipMQMftVFch6D5Do23O3H4LEQUKerghPPolZwV7nvr3zuga2AVpm9MRn\n",
       "oouJyTv3Wll7Rts3tCRbBiilD8vtUL1HVhm8azodyXafVFcHHXWau5XrX+9eZLSLk/QPAPm+cout\n",
       "MxDcH5nvDGojiwYjs5oR/cnbr74c3bNT9KruzvkSLLrkGUGMV3Pe/OsBWW9Rgkip6tMH6hbF5TvB\n",
       "oQ2o/MJLgNukN10pFjdiJeLVeeqBB4k7Cm/HQjHSg9Zh/xFfchp2fOJOcZtzR1GAGzM1zZFGiZ4x\n",
       "VJPSeOmK7b/HZqnUwNRqOk+1+PptWqHwEFsAAAMiQZqnSeEPJlMCHf/+qZYAAAYseobXhQA6GcT9\n",
       "wtUTmuFejWdriDDBu0wGNxztfad7ttjur0nJLOjgqmlh0eMPB/cpSpItUu/aVY0yuNWncWYDmu8Q\n",
       "ir7n9ZgkAtvL5mbCIfudQzTo5CqhX+FzU54DfaYE/E4ipqQarDCy9snOn9wi4VaJ+A6XckO8pAcy\n",
       "7h6xR/uN9s6CrI9Rsn4rL4F0V0u8Wci/XtsQ8/dY7GF+BBNfsuDkUwVhbHrht6YEuPfnSQD6ILZY\n",
       "gB/2m7+JDv921TD2LKopBGIdRoxYrxJHBlxOtgvt9ZhrTsqD4b8A17d8xsJWolWNe2rTNOGBkUyZ\n",
       "zureXHyQElvgxrdvz70rdcxD9aFzTfuLh40kZRBGGFjiwnSoHf6diEI4NjByjF7rflsvL3G/TcqW\n",
       "V1CdYdRSpbxgwb6o1M7yOeaI2NYuKbfIUHZ8fS+42MTcUUK/2YmCAU0w/DjSBPJ0H13JcG1RcKsU\n",
       "8jFrTAzjg035PHIepE/xxQOhoCzrZcp9ovieQH/IRlPWBZX8HoNxpo/NLsa+F0PyJvVW9lWq4aCP\n",
       "J+Lq6/gPacu09Z04Bck93cP92UU0hl9yrWwv7XrsUZkKBys/hxdV3zkkqek20uhoCg0iGSBRq9/4\n",
       "h2aTbNi2XSp9EXDe0HGp/7TEPDphaRai3r+kI8M5Rpz5wdO0/om86IrvgB4cBeZfwlXrhKXlAFcC\n",
       "5wnwbQrKTzD8Ztg490eakAKr7Yw1PvvUt//QINncxYeW9mR4Hu9h2v9C6cYqc8PHOkBXrPyS5Vuj\n",
       "ZEXC5GK3pqJtBcZ25AwHWAu6W/WrwZD0CjHdVd6qIyR2yIJrYRr3S3a3hRypb9dueJBG0yZYchqc\n",
       "BLLtc0u6u0IKTL2fu99uZCrIKgMv1orkTiO9ywT08vyZHkFdsIgrWcWZ0fH10eJI8yFhMWOevMCA\n",
       "Gq18fVSeu360K6hEkVyhWwUmI+1dJ1FM7k8jVMO230DhVsIFcdL6ZCMofUNrEwjdT5ZgLKo5U/2F\n",
       "pwPz4Zfj2GuBpeLH4pQ7HOOlhzhva/rT98N3jvrDHdeD/QAAAnBBmshJ4Q8mUwIb//6nhAAAKN5/\n",
       "2u6VouoIZTrWQAbVIZlY5r+AmPJ0Ns8wIhXMz22ThVJUAkhyfd66MLLv6FQCv5Ff+xGT5yaYH2aU\n",
       "EPWxPAMR1Syb/sy05SBlmxtjbplY/z36JlLy50OP+utvNlxTWaxCevPcaZMKpHlZxxxEiDqiFeEn\n",
       "b5RDJ6rTX/72pOkFeVpQm445B5w6qub/C0aBKTkTla5/2hzFHJyyAIiz8X5j1GrnDEq9SicH7tkx\n",
       "YX8xVK+/aa4u/HuPeEQWixYe4AQaLajOPalBLzokMK8sBBkRybk2GrnXqz0QJENhhBpHpc0kxEcG\n",
       "GgYbwZqyK4YvLaK+LBusKz3HGlRAvIU72BIw346Qzuh6SzdaMmaDk7tXXer7kfBIg7k5jMvZ2fkD\n",
       "tRhmpb63sgga5j3AnYmeA0Iupsloo0Lh/ghnUT3PyWyhvDGgPPdrfC+veOVcz1cUx08gXylbALz0\n",
       "2Ugh8psAFVtqDGs1HWC/Xxiy2a1wL6JmdiCATfoAS88X708SibZigdAi8mYyHzuXLsWVrffqW/2z\n",
       "dAKywkLOCvqYX0iomHyx9UqH5Nj9wF1CC2QJyAKp+eBFxrjLpaifDBss1e0wzeheVU9aOLDT6qhC\n",
       "DmyS4gMxGhyomT+P0rAL8zLG8WdnzVli29ogQfZmXZhQEBChJK08+I/9OshMdsuV47s63+Rfmh3M\n",
       "DGbCzKGdt0cCfoJOhEiAqQnl9FrGF0Odqd3Dy6IeJqo+IlvPPMxgKWKj4YcIxMoCeuMXn7C7hK2F\n",
       "OQ+51DVZUBOMuZytSWz4WyC/skp6bOirYzt/SOBG/i8lpuAAAAODbW9vdgAAAGxtdmhkAAAAAAAA\n",
       "AAAAAAAAAAAD6AAAA4QAAQAAAQAAAAAAAAAAAAAAAAEAAAAAAAAAAAAAAAAAAAABAAAAAAAAAAAA\n",
       "AAAAAABAAAAAAAAAAAAAAAAAAAAAAAAAAAAAAAAAAAAAAAAAAgAAAq10cmFrAAAAXHRraGQAAAAD\n",
       "AAAAAAAAAAAAAAABAAAAAAAAA4QAAAAAAAAAAAAAAAAAAAAAAAEAAAAAAAAAAAAAAAAAAAABAAAA\n",
       "AAAAAAAAAAAAAABAAAAAAyAAAAEsAAAAAAAkZWR0cwAAABxlbHN0AAAAAAAAAAEAAAOEAAAIAAAB\n",
       "AAAAAAIlbWRpYQAAACBtZGhkAAAAAAAAAAAAAAAAAAAoAAAAJABVxAAAAAAALWhkbHIAAAAAAAAA\n",
       "AHZpZGUAAAAAAAAAAAAAAABWaWRlb0hhbmRsZXIAAAAB0G1pbmYAAAAUdm1oZAAAAAEAAAAAAAAA\n",
       "AAAAACRkaW5mAAAAHGRyZWYAAAAAAAAAAQAAAAx1cmwgAAAAAQAAAZBzdGJsAAAAtHN0c2QAAAAA\n",
       "AAAAAQAAAKRhdmMxAAAAAAAAAAEAAAAAAAAAAAAAAAAAAAAAAyABLABIAAAASAAAAAAAAAABAAAA\n",
       "AAAAAAAAAAAAAAAAAAAAAAAAAAAAAAAAAAAAAAAAGP//AAAAMmF2Y0MBZAAW/+EAGWdkABas2UDI\n",
       "J/uEAAADAAQAAAMAUDxYtlgBAAZo6+PLIsAAAAAcdXVpZGtoQPJfJE/FujmlG88DI/MAAAAAAAAA\n",
       "GHN0dHMAAAAAAAAAAQAAAAkAAAQAAAAAFHN0c3MAAAAAAAAAAQAAAAEAAABAY3R0cwAAAAAAAAAG\n",
       "AAAAAgAACAAAAAABAAAMAAAAAAEAAAQAAAAAAQAADAAAAAABAAAEAAAAAAMAAAgAAAAAHHN0c2MA\n",
       "AAAAAAAAAQAAAAEAAAAJAAAAAQAAADhzdHN6AAAAAAAAAAAAAAAJAAA+DAAABaEAAAR6AAAB1QAA\n",
       "BGQAAAGYAAADPAAAAyYAAAJ0AAAAFHN0Y28AAAAAAAAAAQAAACwAAABidWR0YQAAAFptZXRhAAAA\n",
       "AAAAACFoZGxyAAAAAAAAAABtZGlyYXBwbAAAAAAAAAAAAAAAAC1pbHN0AAAAJal0b28AAAAdZGF0\n",
       "YQAAAAEAAAAATGF2ZjU4LjI5LjEwMA==\n",
       "\">\n",
       "  Your browser does not support the video tag.\n",
       "</video>"
      ],
      "text/plain": [
       "<matplotlib.animation.FuncAnimation at 0x7f9428421ad0>"
      ]
     },
     "execution_count": 13,
     "metadata": {},
     "output_type": "execute_result"
    }
   ],
   "source": [
    "learning_rate = 0.05\n",
    "batch_size = 126\n",
    "num_examples = 100\n",
    "\n",
    "animate_sgd(\n",
    "    learning_rate=learning_rate,\n",
    "    batch_size=batch_size,\n",
    "    num_examples=num_examples,\n",
    "    # You can also change these, if you like\n",
    "    steps=10, # total training steps (batches seen)\n",
    "    true_w=3.0, # the slope of the data\n",
    "    true_b=2.0, # the bias of the data\n",
    ")"
   ]
  }
 ],
 "metadata": {
  "kernelspec": {
   "display_name": "Python 3",
   "language": "python",
   "name": "python3"
  },
  "language_info": {
   "codemirror_mode": {
    "name": "ipython",
    "version": 3
   },
   "file_extension": ".py",
   "mimetype": "text/x-python",
   "name": "python",
   "nbconvert_exporter": "python",
   "pygments_lexer": "ipython3",
   "version": "3.7.12"
  },
  "papermill": {
   "default_parameters": {},
   "duration": 76.671839,
   "end_time": "2022-04-05T18:03:33.791921",
   "environment_variables": {},
   "exception": null,
   "input_path": "__notebook__.ipynb",
   "output_path": "__notebook__.ipynb",
   "parameters": {},
   "start_time": "2022-04-05T18:02:17.120082",
   "version": "2.3.3"
  }
 },
 "nbformat": 4,
 "nbformat_minor": 5
}
